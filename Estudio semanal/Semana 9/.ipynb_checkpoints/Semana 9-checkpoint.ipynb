{
 "cells": [
  {
   "cell_type": "markdown",
   "id": "b87a0432",
   "metadata": {},
   "source": [
    "# Semana 9\n",
    "\n",
    "Tuve un estudio semanal de 5:30hs\n",
    "\n",
    "Me encargué principalmente de hacer tareas semanales, la TS4bis y TS4bis². En ambos casos no tuve problemas en lo que conlleva la obtención de la transferencia, con la última clase pude ver unos cuantos conceptos faltantes de lo que es transformación *pasa banda - pasa bajos*.\n",
    "Lo que más problemas trajo fueron las implementaciones circuitales. En un principio traté por arrancar con una implementación pasiva para que sea más sencillo, pero no obtuve los resultados esperados.\n",
    "\n",
    "<img src=\"./Simulación1.png\" align=\"center\" width=\"1000\" /> \n",
    "\n",
    "Para la realización me ayudé en parte con el ejemplo 9.4 del Schaumann que plantea un ejercicio bastante similar.\n",
    "\n",
    "Finalizando, empecé a ver los videos correspondientes a las transferencias bilineales y bicuadráticas, por cuestiones de organización y tiempo no llegué a terminar toda la lista de reproducción.\n",
    "<img src=\"./Videos1.png\" align=\"center\" width=\"800\" /> \n",
    "\n",
    "Tomando los siguientes apuntes:\n",
    "<img src=\"./Hoja1.jpeg\" align=\"center\" width=\"700\" /> \n",
    "<img src=\"./Hoja2.jpeg\" align=\"center\" width=\"700\" /> "
   ]
  }
 ],
 "metadata": {
  "kernelspec": {
   "display_name": "Python 3 (ipykernel)",
   "language": "python",
   "name": "python3"
  },
  "language_info": {
   "codemirror_mode": {
    "name": "ipython",
    "version": 3
   },
   "file_extension": ".py",
   "mimetype": "text/x-python",
   "name": "python",
   "nbconvert_exporter": "python",
   "pygments_lexer": "ipython3",
   "version": "3.10.6"
  }
 },
 "nbformat": 4,
 "nbformat_minor": 5
}
