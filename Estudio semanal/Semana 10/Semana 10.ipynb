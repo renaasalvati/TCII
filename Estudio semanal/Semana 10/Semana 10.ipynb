{
 "cells": [
  {
   "cell_type": "markdown",
   "id": "d978647f",
   "metadata": {},
   "source": [
    "# Semana 10\n",
    "\n",
    "Tuve un estudio semanal de ...\n",
    "\n",
    "Luego de hacer algunas consultas para las implementaciones circuitales pude hacer las correcciones que hacían falta para el circuito pasivo de la TS4bis. Además aprendí cómo implementar los parámetros en LTSpice para trabajo más dinámico. \n",
    "Finalmente pude obtener el resultado esperado. \n",
    "\n",
    "<img src=\"./Circuito1.png\" align=\"center\" width=\"800\" /> \n",
    "<img src=\"./Simulación1.png\" align=\"center\" width=\"800\" /> \n",
    "\n",
    "De esta misma forma realicé el circuito pasivo para la TS4bis².\n",
    "\n",
    "<img src=\"./Circuito2.png\" align=\"center\" width=\"800\" /> \n",
    "<img src=\"./Simulación2.png\" align=\"center\" width=\"800\" /> "
   ]
  },
  {
   "cell_type": "markdown",
   "id": "f7fbd157",
   "metadata": {},
   "source": [
    "Por otra parte también estuve encarando el análisis del filtro del laboratorio\n",
    "<img src=\"./Hoja1.jpeg\" align=\"center\" width=\"700\" /> "
   ]
  }
 ],
 "metadata": {
  "kernelspec": {
   "display_name": "Python 3 (ipykernel)",
   "language": "python",
   "name": "python3"
  },
  "language_info": {
   "codemirror_mode": {
    "name": "ipython",
    "version": 3
   },
   "file_extension": ".py",
   "mimetype": "text/x-python",
   "name": "python",
   "nbconvert_exporter": "python",
   "pygments_lexer": "ipython3",
   "version": "3.10.6"
  }
 },
 "nbformat": 4,
 "nbformat_minor": 5
}
