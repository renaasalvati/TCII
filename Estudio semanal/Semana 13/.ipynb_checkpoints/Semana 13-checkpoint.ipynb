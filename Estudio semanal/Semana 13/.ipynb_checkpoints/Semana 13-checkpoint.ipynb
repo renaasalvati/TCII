{
 "cells": [
  {
   "cell_type": "markdown",
   "id": "f13bf312",
   "metadata": {},
   "source": [
    "# Semana 13\n",
    "\n",
    "Tuve un estudio semanal de alrededor de 9hs.\n",
    "\n",
    "Realicé las correciones pendientes que me quedaban de las tareas semanales [3](https://nbviewer.org/github/renaasalvati/TCII/blob/main/Trabajos%20semanales/TS3/Trabajo%20Semanal%203.ipynb) y [4](https://nbviewer.org/github/renaasalvati/TCII/blob/main/Trabajos%20semanales/TS4/Tarea%20Semanal%204.ipynb), y entregué la [4bis](https://nbviewer.org/github/renaasalvati/TCII/blob/main/Trabajos%20semanales/TS4%20bis/Tarea%20Semanal%204%20bis.ipynb), [4bis²](https://nbviewer.org/github/renaasalvati/TCII/blob/main/Trabajos%20semanales/TS4%20bis2/TS4_bis2/TS4bis2_V1.ipynb) (ya las tenía hechas hace un tiempo pero nunca las subí) y [5](https://nbviewer.org/github/renaasalvati/TCII/blob/main/Trabajos%20semanales/TS5/Tarea%20Semanal%205.ipynb). Esta última fue la que me llevó la mayor cantidad de horas en la semana.\n",
    "\n",
    "Me puse a ver clases que me quedaban pendientes, terminando el último video de la *clase 7* y comenzando con los de la *clase 8*.\n",
    "\n",
    "<img src=\"./Videos1.png\" align=\"center\" width=\"800\" /> \n",
    "\n",
    "Como ya la teoría había sido presentada en clase presencial, los apuntes de los videos fueron un complemento a lo anotado en esa oportunidad.\n",
    "\n",
    "<img src=\"./Hoja1.jpeg\" align=\"center\" width=\"800\" /> \n",
    "<img src=\"./Hoja2.jpeg\" align=\"center\" width=\"800\" /> \n",
    "<img src=\"./Hoja3.jpeg\" align=\"center\" width=\"800\" /> \n",
    "<img src=\"./Hoja4.jpeg\" align=\"center\" width=\"800\" /> "
   ]
  }
 ],
 "metadata": {
  "kernelspec": {
   "display_name": "Python 3 (ipykernel)",
   "language": "python",
   "name": "python3"
  },
  "language_info": {
   "codemirror_mode": {
    "name": "ipython",
    "version": 3
   },
   "file_extension": ".py",
   "mimetype": "text/x-python",
   "name": "python",
   "nbconvert_exporter": "python",
   "pygments_lexer": "ipython3",
   "version": "3.10.6"
  }
 },
 "nbformat": 4,
 "nbformat_minor": 5
}
