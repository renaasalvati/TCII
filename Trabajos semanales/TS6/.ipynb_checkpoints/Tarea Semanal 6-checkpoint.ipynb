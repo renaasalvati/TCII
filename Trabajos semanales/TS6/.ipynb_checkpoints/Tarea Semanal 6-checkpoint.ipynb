{
 "cells": [
  {
   "cell_type": "markdown",
   "id": "cec3fd28",
   "metadata": {},
   "source": [
    "# Trabajo Semanal 6\n",
    "### Renata Salvati Dávila\n",
    "***"
   ]
  },
  {
   "cell_type": "markdown",
   "id": "30bbfbca",
   "metadata": {},
   "source": [
    "**1. Para el siguiente cuadripolo se pide calcular los parámetros Z.**\n",
    "<img src=\"./Ejercicio1.png\" align=\"center\" width=\"700\" /> "
   ]
  },
  {
   "cell_type": "markdown",
   "id": "454fdd44",
   "metadata": {},
   "source": [
    "<img src=\"./Hoja1.jpeg\" align=\"center\" /> \n",
    "<img src=\"./Hoja2.jpeg\" align=\"center\" /> "
   ]
  },
  {
   "cell_type": "markdown",
   "id": "40143960",
   "metadata": {},
   "source": [
    "### LTSpice\n",
    "<img src=\"./Circuito1.png\" align=\"center\" width=\"600\" />\n",
    "<img src=\"./Simulacion1.png\" align=\"center\" width=\"700\" />\n",
    "\n",
    "Se puede observar de la simulación que en el régimen permanente todos los parámetros de la matriz, en módulo, tienden a 333.3m$\\Omega$. Este mismo tiene aproximadamente un 10% de error en comparación a lo obtenido teóricamente."
   ]
  },
  {
   "cell_type": "markdown",
   "id": "c2e7b84f",
   "metadata": {},
   "source": [
    "**2. Dado el siguiente circuito:**\n",
    "<img src=\"./Ejercicio2.png\" align=\"center\" width=\"400\" /> "
   ]
  },
  {
   "cell_type": "markdown",
   "id": "94845793",
   "metadata": {},
   "source": [
    "**a. Obtener la transferencia de tensión fracción V subíndice o entre V subíndice i por método de cuadripolos (se sugiere referirse a alguno de los métodos de interconexión ya vistos).**\n",
    "<img src=\"./Hoja3.jpeg\" align=\"center\" width=\"700\" /> "
   ]
  },
  {
   "cell_type": "markdown",
   "id": "1ab7f4fb",
   "metadata": {},
   "source": [
    "**b. Construya la matriz de admitancia indefinida (MAI) del circuito.**\n",
    "<img src=\"./Hoja4.jpeg\" align=\"center\" width=\"700\" /> "
   ]
  },
  {
   "cell_type": "markdown",
   "id": "7c590d10",
   "metadata": {},
   "source": [
    "**c. Compute la transferencia de tensión con la MAI.**\n",
    "<img src=\"./Hoja5.jpeg\" align=\"center\" width=\"700\" /> "
   ]
  },
  {
   "cell_type": "markdown",
   "id": "b9d8cd46",
   "metadata": {},
   "source": [
    "**d. Compute la impedancia de entrada con la MAI.**\n",
    "<img src=\"./Hoja6.jpeg\" align=\"center\" width=\"700\" />"
   ]
  },
  {
   "cell_type": "markdown",
   "id": "91786bb0",
   "metadata": {},
   "source": [
    "### LTSpice\n",
    "<img src=\"./Circuito2.png\" align=\"center\" width=\"600\" />\n",
    "<img src=\"./Simulacion2.png\" align=\"center\" width=\"700\" />\n",
    "\n",
    "Se puede observar de la simulación que la transferencia de tensiones cumple con un filtro pasabajos de máxima planicidad Butter ya que a 159mHz cae a 3db. Además como es de orden 3, se puede ver que por década cae 60db."
   ]
  },
  {
   "cell_type": "code",
   "execution_count": 11,
   "id": "e236a469",
   "metadata": {},
   "outputs": [
    {
     "name": "stdout",
     "output_type": "stream",
     "text": [
      "Cálculo de la transferencia\n"
     ]
    },
    {
     "data": {
      "text/latex": [
       "$\\displaystyle  [Y_{MAI}] = \\left[\\begin{matrix}\\frac{1}{L_{1} s} & - \\frac{1}{L_{1} s} & 0 & 0\\\\- \\frac{1}{L_{1} s} & C_{2} s + \\frac{1}{L_{3} s} + \\frac{1}{L_{1} s} & - \\frac{1}{L_{3} s} & - C_{2} s\\\\0 & - \\frac{1}{L_{3} s} & \\frac{1}{R} + \\frac{1}{L_{3} s} & - \\frac{1}{R}\\\\0 & - C_{2} s & - \\frac{1}{R} & C_{2} s + \\frac{1}{R}\\end{matrix}\\right]$"
      ],
      "text/plain": [
       "<IPython.core.display.Math object>"
      ]
     },
     "metadata": {},
     "output_type": "display_data"
    },
    {
     "data": {
      "text/latex": [
       "$\\displaystyle  [Y^{ 03 }_{ 23 } ] = \\left[\\begin{matrix}- \\frac{1}{L_{1} s} & 0\\\\C_{2} s + \\frac{1}{L_{3} s} + \\frac{1}{L_{1} s} & - \\frac{1}{L_{3} s}\\end{matrix}\\right]$"
      ],
      "text/plain": [
       "<IPython.core.display.Math object>"
      ]
     },
     "metadata": {},
     "output_type": "display_data"
    },
    {
     "data": {
      "text/latex": [
       "$\\displaystyle [Y^{ 03 }_{ 03 } ] = \\left[\\begin{matrix}C_{2} s + \\frac{1}{L_{3} s} + \\frac{1}{L_{1} s} & - \\frac{1}{L_{3} s}\\\\- \\frac{1}{L_{3} s} & \\frac{1}{R} + \\frac{1}{L_{3} s}\\end{matrix}\\right]$"
      ],
      "text/plain": [
       "<IPython.core.display.Math object>"
      ]
     },
     "metadata": {},
     "output_type": "display_data"
    },
    {
     "data": {
      "text/latex": [
       "$\\displaystyle T^{ 23 }_{ 03 } = \\frac{ \\underline{Y}^{ 03 }_{ 23 } }{ \\underline{Y}^{ 03 }_{ 03 } } =  -1^{ 8 } \\frac{{ \\frac{1}{L_{1} L_{3} s^{2}}}}{{\\frac{C_{2} s}{R} + \\frac{C_{2}}{L_{3}} + \\frac{1}{L_{3} R s} + \\frac{1}{L_{1} R s} + \\frac{1}{L_{1} L_{3} s^{2}}}} = - \\frac{R}{C_{2} L_{1} L_{3} s^{3} + C_{2} L_{1} R s^{2} + L_{1} s + L_{3} s + R}$"
      ],
      "text/plain": [
       "<IPython.core.display.Math object>"
      ]
     },
     "metadata": {},
     "output_type": "display_data"
    },
    {
     "data": {
      "text/latex": [
       "$\\displaystyle T(s) = - \\frac{R}{C_{2} L_{1} L_{3} s^{3} + C_{2} L_{1} R s^{2} + L_{1} s + L_{3} s + R}$"
      ],
      "text/plain": [
       "<IPython.core.display.Math object>"
      ]
     },
     "metadata": {},
     "output_type": "display_data"
    }
   ],
   "source": [
    "#Importo librerias de la catedra\n",
    "import sympy as sp\n",
    "import pytc2.cuadripolos as tc2\n",
    "from pytc2.general import print_latex\n",
    "\n",
    "s = sp.symbols('s', complex = True)\n",
    "Z1, Z3 = sp.symbols('L1 L3', complex = True)\n",
    "Y1 = 1/(s*Z1)\n",
    "Y2 = s*sp.symbols('C2', complex = True)\n",
    "Y3 = 1/(s*Z3)\n",
    "R = sp.symbols('R', real = True, positive = True)\n",
    "G = 1/R\n",
    "\n",
    "#MAI \n",
    "\n",
    "MAI = sp.Matrix([\n",
    "                    [Y1, -Y1, 0, 0],\n",
    "                    [-Y1, Y1+Y2+Y3, -Y3, -Y2],\n",
    "                    [0, -Y3, Y3 + G, -G],\n",
    "                    [0, -Y2, -G, Y2 + G]\n",
    "                ])\n",
    "\n",
    "con_detalles = True\n",
    "\n",
    "#Verifico transferencia\n",
    "print('Cálculo de la transferencia')\n",
    "\n",
    "tf = tc2.calc_MAI_vtransf_ij_mn(MAI, 2, 3, 0, 3, verbose = con_detalles)\n",
    "\n",
    "print_latex('T(s) = ' + sp.latex(tf))"
   ]
  },
  {
   "cell_type": "code",
   "execution_count": 12,
   "id": "11d9cfe2",
   "metadata": {},
   "outputs": [
    {
     "data": {
      "text/latex": [
       "$\\displaystyle T(s) = - \\frac{1}{1.0 s^{3} + 2.0 s^{2} + 2.0 s + 1}$"
      ],
      "text/plain": [
       "<IPython.core.display.Math object>"
      ]
     },
     "metadata": {},
     "output_type": "display_data"
    }
   ],
   "source": [
    "#Reemplazo valores para obtenerla normalizada\n",
    "tf_n = sp.simplify(tf.subs(Z1, 3/2))\n",
    "tf_n = sp.simplify(tf_n.subs(Y2, s*(4/3)))\n",
    "tf_n = sp.simplify(tf_n.subs(Z3, 1/2))\n",
    "tf_n = sp.simplify(tf_n.subs(R, 1))\n",
    "\n",
    "print_latex('T(s) = ' + sp.latex(tf_n))"
   ]
  },
  {
   "cell_type": "code",
   "execution_count": 14,
   "id": "6efc4ca1",
   "metadata": {},
   "outputs": [
    {
     "name": "stdout",
     "output_type": "stream",
     "text": [
      "Cálculo de la impedancia de entrada\n"
     ]
    },
    {
     "data": {
      "text/latex": [
       "$\\displaystyle Ze(s) = \\frac{C_{2} L_{1} L_{3} s^{3} + C_{2} L_{1} R s^{2} + L_{1} s + L_{3} s + R}{C_{2} L_{3} s^{2} + C_{2} R s + 1}$"
      ],
      "text/plain": [
       "<IPython.core.display.Math object>"
      ]
     },
     "metadata": {},
     "output_type": "display_data"
    }
   ],
   "source": [
    "#Verifico impedancia de entrada\n",
    "con_detalles = False\n",
    "Ze = tc2.calc_MAI_impedance_ij(MAI, 0, 3, verbose = con_detalles)\n",
    "print('Cálculo de la impedancia de entrada')\n",
    "print_latex('Ze(s) = ' + sp.latex(Ze))"
   ]
  }
 ],
 "metadata": {
  "kernelspec": {
   "display_name": "Python 3 (ipykernel)",
   "language": "python",
   "name": "python3"
  },
  "language_info": {
   "codemirror_mode": {
    "name": "ipython",
    "version": 3
   },
   "file_extension": ".py",
   "mimetype": "text/x-python",
   "name": "python",
   "nbconvert_exporter": "python",
   "pygments_lexer": "ipython3",
   "version": "3.10.12"
  }
 },
 "nbformat": 4,
 "nbformat_minor": 5
}
