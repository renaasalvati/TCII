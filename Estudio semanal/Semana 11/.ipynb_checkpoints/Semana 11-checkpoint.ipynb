{
 "cells": [
  {
   "cell_type": "markdown",
   "id": "1b659ab4",
   "metadata": {},
   "source": [
    "# Semana 11\n",
    "\n",
    "Esta semana fue puramente dedicada al circuito del laboratorio, con mi grupo tuvimos que pedir los elementos de medición varias veces ya que desde un principio no salieron bien las cosas. Le dedicamos aproximadamente 8hs.\n",
    "\n",
    "En el primer encuentro (jueves 15/6) pusimos puesta en común los valores encontrados por cada uno de los componentes circuitales para la implementación. Hicimos las simulaciones respectivas en el LTSpice para poder decidir cuál convenía o cuál daba mejores resultados.\n",
    "\n",
    "Pudimos darnos cuenta que al tomarnos ciertos grados de libertad (como igualar Rf1 con Rf2) los parámetros propios de la transferencia (como el Q) no se cumplían.\n",
    "\n",
    "Finalmente decidimos utilizar la Rg integrada en el UAF42 y fijar el valor de Rq = 30,8k. De esta forma sacamos el resto de los valores, para la primer estapa de segundo orde, para la segunda etapa de primer orden y para la etapa de amplificación.\n",
    "\n",
    "<img src=\"./Hoja1.jpeg\" align=\"center\" width=\"800\" /> \n",
    "\n",
    "En un principio al hacer las mediciones la salida estaba amplificada y no respetaba la aproximación realizada, siendo que su respuesta en módulo era de máxima planicidad. Después de varios intentos y pruebas para corregir optamos por cambiar el integrado y el protoboard dado por la facultad. \n",
    "\n",
    "Una vez hechos estos cambios, si bien se vieron algunas mejorías en algunos aspectos el circuito seguía sin respetar lo que dabía realizar. De esta forma se optó por pedir laboratorio en otra ocasión.\n",
    "\n",
    "En el segundo encuentro (viernes 16/9) se trató de implementar otros valores de los componentes circuitales y utilizamos una protoboard propia. Se nos volvió a prestar los elementos de trabajo pero no se supo si eran de la vez anterior ya que en esta ocasión los resultados fueron los esperados.\n",
    "\n",
    "Posteriormente se discutió cómo ibámos a implementar las resistencias con valores comerciales lo más cercanos posible a los hallados teoricamente, es decir, si ya había alguna con un valor similar o si era necesario hacer algún serie o paralelo. A su vez se charló cómo iba a ser la distribución en toda la placa para que sea lo más óptima posible, asegurandonos de que podamos poner pines para las entradas y salidas.\n",
    "\n",
    "Una vez resuelto esto se comenzó el soldado de los componentes que teníamos disponibles en el momento. No se pudo seguir mucho ya que se comenzaron a saltar las pistas y por tanto quedó bastante inutilizada la placa. Uno de los compañeros se ofreció para soldarlo en su casa y volver una vez más para probar de que todo siga funcionando correctamente.\n",
    "\n",
    "Finalmente, en el tercer y último encuentro (miércoles 21/6), ya con la placa soldada simplemente se hicieron las conexiones y se realizaron algunas mediciones en puntos claves para ver que estuviera todo en orden. Los resultados fueron los esperados por lo que no se tuvo que hacer nada más."
   ]
  }
 ],
 "metadata": {
  "kernelspec": {
   "display_name": "Python 3 (ipykernel)",
   "language": "python",
   "name": "python3"
  },
  "language_info": {
   "codemirror_mode": {
    "name": "ipython",
    "version": 3
   },
   "file_extension": ".py",
   "mimetype": "text/x-python",
   "name": "python",
   "nbconvert_exporter": "python",
   "pygments_lexer": "ipython3",
   "version": "3.10.6"
  }
 },
 "nbformat": 4,
 "nbformat_minor": 5
}
