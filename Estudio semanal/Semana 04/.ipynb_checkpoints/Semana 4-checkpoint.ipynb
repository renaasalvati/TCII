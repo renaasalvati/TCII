{
 "cells": [
  {
   "cell_type": "markdown",
   "id": "29dbc310",
   "metadata": {},
   "source": [
    "# Semana 4\n",
    "\n",
    "Para esta semana tuve un estudio de alrededor de 4hs/5hs. En un principio estuve viendo los videos de la *clase 4* con las explicaciones de los filtros Chebyshev.\n",
    "<img src=\"./Videos1.png\" align=\"center\" width=\"700\" /> \n",
    "\n",
    "A su vez se estuvo haciendo un complemento para los mismos con el *libro de Schaumann, capítulo 7*, principalmente las primeras 3 secciones.\n",
    "<img src=\"./Libro.png\" align=\"center\" width=\"400\" /> \n",
    "\n",
    "Para poder analizar toda esta información hice apuntes en mi carpeta."
   ]
  },
  {
   "cell_type": "code",
   "execution_count": 9,
   "id": "76936b07",
   "metadata": {},
   "outputs": [
    {
     "data": {
      "text/html": [
       "\n",
       "        <iframe\n",
       "            width=\"900\"\n",
       "            height=\"1000\"\n",
       "            src=\"./Carpeta.pdf\"\n",
       "            frameborder=\"0\"\n",
       "            allowfullscreen\n",
       "            \n",
       "        ></iframe>\n",
       "        "
      ],
      "text/plain": [
       "<IPython.lib.display.IFrame at 0x7fdd6dc03970>"
      ]
     },
     "execution_count": 9,
     "metadata": {},
     "output_type": "execute_result"
    }
   ],
   "source": [
    "from IPython.display import IFrame \n",
    "IFrame(\"./Carpeta.pdf\", width=900, height=1000)"
   ]
  },
  {
   "cell_type": "markdown",
   "id": "e8c5986c",
   "metadata": {},
   "source": [
    "Al principio el tema de las funciones que se habían propuesto para satisfacer la forma de la transferencia no me habían quedado bien claros por lo que quise graficarlos en geogebra.\n",
    "\n",
    "<video controls src= \"Coeficientes.mp4\" align=\"center\" width=\"800\" /> "
   ]
  },
  {
   "cell_type": "markdown",
   "id": "192888b1",
   "metadata": {},
   "source": [
    "A su vez, ya con los videos vistos del filtro Butterworth y la clase pasada, traté de plantear el TPS3. Me ayudé también complementando con otros videos de la lista de reproducción:\n",
    "<img src=\"./Videos2.png\" align=\"center\" width=\"500\" /> \n",
    "\n",
    "También estuve revisando las correcciones de los TPS1 y 2 y tratando de poder resolver todo como lo indicado. Hasta el momento no pude subir dichos cambios pero en la semana lo estaré haciendo."
   ]
  }
 ],
 "metadata": {
  "kernelspec": {
   "display_name": "Python 3 (ipykernel)",
   "language": "python",
   "name": "python3"
  },
  "language_info": {
   "codemirror_mode": {
    "name": "ipython",
    "version": 3
   },
   "file_extension": ".py",
   "mimetype": "text/x-python",
   "name": "python",
   "nbconvert_exporter": "python",
   "pygments_lexer": "ipython3",
   "version": "3.10.6"
  }
 },
 "nbformat": 4,
 "nbformat_minor": 5
}
