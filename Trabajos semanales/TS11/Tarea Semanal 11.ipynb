{
 "cells": [
  {
   "cell_type": "markdown",
   "id": "cec3fd28",
   "metadata": {},
   "source": [
    "# Trabajo Semanal 11\n",
    "### Renata Salvati Dávila\n",
    "***"
   ]
  },
  {
   "cell_type": "markdown",
   "id": "30bbfbca",
   "metadata": {},
   "source": [
    "<img src=\"./Ejercicio1.png\" align=\"center\" width=\"1500\" /> "
   ]
  },
  {
   "cell_type": "markdown",
   "id": "454fdd44",
   "metadata": {},
   "source": [
    "<img src=\"./Hoja1.jpeg\" align=\"center\" /> \n",
    "<img src=\"./Hoja2.jpeg\" align=\"center\" />"
   ]
  },
  {
   "cell_type": "code",
   "execution_count": 1,
   "id": "b36b2602",
   "metadata": {},
   "outputs": [],
   "source": [
    "import sympy as sp\n",
    "\n",
    "from pytc2.remociones import remover_polo_jw, remover_polo_dc\n",
    "from pytc2.general import print_latex, print_subtitle, a_equal_b_latex_s\n",
    "from IPython.display import display, Markdown\n",
    "\n",
    "s = sp.symbols('s', complex=True)"
   ]
  },
  {
   "cell_type": "code",
   "execution_count": 2,
   "id": "d0685b40",
   "metadata": {},
   "outputs": [
    {
     "data": {
      "text/latex": [
       "$\\displaystyle Y_{11}(s)=\\frac{3 s \\left(s^{2} + \\frac{7}{3}\\right)}{\\left(s^{2} + 2\\right) \\left(s^{2} + 5\\right)}$"
      ],
      "text/plain": [
       "<IPython.core.display.Math object>"
      ]
     },
     "metadata": {},
     "output_type": "display_data"
    },
    {
     "data": {
      "text/markdown": [
       "#### Primer remoción (parcial): capacitor en serie"
      ],
      "text/plain": [
       "<IPython.core.display.Markdown object>"
      ]
     },
     "metadata": {},
     "output_type": "display_data"
    },
    {
     "data": {
      "text/latex": [
       "$\\displaystyle C_1=\\frac{1}{s}$"
      ],
      "text/plain": [
       "<IPython.core.display.Math object>"
      ]
     },
     "metadata": {},
     "output_type": "display_data"
    },
    {
     "data": {
      "text/markdown": [
       "#### Impedancia resultante"
      ],
      "text/plain": [
       "<IPython.core.display.Markdown object>"
      ]
     },
     "metadata": {},
     "output_type": "display_data"
    },
    {
     "data": {
      "text/latex": [
       "$\\displaystyle Z_a=\\frac{\\left(s^{2} + 1\\right) \\left(s^{2} + 3\\right)}{s \\left(3 s^{2} + 7\\right)}$"
      ],
      "text/plain": [
       "<IPython.core.display.Math object>"
      ]
     },
     "metadata": {},
     "output_type": "display_data"
    }
   ],
   "source": [
    "Y11 = sp.nsimplify((3*s*(s**2+7/3))/((s**2 + 2)*(s**2+5)))\n",
    "\n",
    "print_latex(a_equal_b_latex_s('Y_{11}(s)', Y11))\n",
    "\n",
    "Z = 1/Y11\n",
    "\n",
    "Za, C1 = remover_polo_dc(Z, omega_zero = 1)\n",
    "\n",
    "print_subtitle('Primer remoción (parcial): capacitor en serie')\n",
    "print_latex(a_equal_b_latex_s('C_1', C1))\n",
    "print_subtitle('Impedancia resultante')\n",
    "print_latex(a_equal_b_latex_s('Z_a', Za))"
   ]
  },
  {
   "cell_type": "code",
   "execution_count": 3,
   "id": "7758b556",
   "metadata": {},
   "outputs": [
    {
     "data": {
      "text/markdown": [
       "#### Segunda remoción: Tanque LC en derivación"
      ],
      "text/plain": [
       "<IPython.core.display.Markdown object>"
      ]
     },
     "metadata": {},
     "output_type": "display_data"
    },
    {
     "data": {
      "text/latex": [
       "$\\displaystyle L_{1}=\\frac{1}{2}$"
      ],
      "text/plain": [
       "<IPython.core.display.Math object>"
      ]
     },
     "metadata": {},
     "output_type": "display_data"
    },
    {
     "data": {
      "text/latex": [
       "$\\displaystyle C_{2}=2$"
      ],
      "text/plain": [
       "<IPython.core.display.Math object>"
      ]
     },
     "metadata": {},
     "output_type": "display_data"
    },
    {
     "data": {
      "text/markdown": [
       "#### Admitancia resultante"
      ],
      "text/plain": [
       "<IPython.core.display.Markdown object>"
      ]
     },
     "metadata": {},
     "output_type": "display_data"
    },
    {
     "data": {
      "text/latex": [
       "$\\displaystyle Y_b=\\frac{s}{s^{2} + 3}$"
      ],
      "text/plain": [
       "<IPython.core.display.Math object>"
      ]
     },
     "metadata": {},
     "output_type": "display_data"
    }
   ],
   "source": [
    "Ya = 1/Za\n",
    "\n",
    "Yb, k1, L1, C2 = remover_polo_jw(Ya, omega = 1, isImpedance = False)\n",
    "\n",
    "print_subtitle('Segunda remoción: Tanque LC en derivación')\n",
    "print_latex(a_equal_b_latex_s('L_{1}', L1))\n",
    "print_latex(a_equal_b_latex_s('C_{2}', C2))\n",
    "\n",
    "print_subtitle('Admitancia resultante')\n",
    "print_latex(a_equal_b_latex_s('Y_b', Yb))"
   ]
  },
  {
   "cell_type": "code",
   "execution_count": 4,
   "id": "bd61dd7c",
   "metadata": {},
   "outputs": [
    {
     "data": {
      "text/markdown": [
       "#### Tercer remoción: capacitor en serie"
      ],
      "text/plain": [
       "<IPython.core.display.Markdown object>"
      ]
     },
     "metadata": {},
     "output_type": "display_data"
    },
    {
     "data": {
      "text/latex": [
       "$\\displaystyle C_3=\\frac{3}{s}$"
      ],
      "text/plain": [
       "<IPython.core.display.Math object>"
      ]
     },
     "metadata": {},
     "output_type": "display_data"
    },
    {
     "data": {
      "text/markdown": [
       "#### Impedancia resultante"
      ],
      "text/plain": [
       "<IPython.core.display.Markdown object>"
      ]
     },
     "metadata": {},
     "output_type": "display_data"
    },
    {
     "data": {
      "text/latex": [
       "$\\displaystyle Z_c=s$"
      ],
      "text/plain": [
       "<IPython.core.display.Math object>"
      ]
     },
     "metadata": {},
     "output_type": "display_data"
    }
   ],
   "source": [
    "Zb = 1/Yb\n",
    "\n",
    "Zc, C3 = remover_polo_dc(Zb)\n",
    "\n",
    "print_subtitle('Tercer remoción: capacitor en serie')\n",
    "print_latex(a_equal_b_latex_s('C_3', C3))\n",
    "print_subtitle('Impedancia resultante')\n",
    "print_latex(a_equal_b_latex_s('Z_c', Zc))"
   ]
  },
  {
   "cell_type": "code",
   "execution_count": 5,
   "id": "f8c7faca",
   "metadata": {},
   "outputs": [
    {
     "data": {
      "text/markdown": [
       "#### Cuarta remoción: inductor en serie"
      ],
      "text/plain": [
       "<IPython.core.display.Markdown object>"
      ]
     },
     "metadata": {},
     "output_type": "display_data"
    },
    {
     "data": {
      "text/latex": [
       "$\\displaystyle L_2=s$"
      ],
      "text/plain": [
       "<IPython.core.display.Math object>"
      ]
     },
     "metadata": {},
     "output_type": "display_data"
    }
   ],
   "source": [
    "L2 = Zc\n",
    "\n",
    "print_subtitle('Cuarta remoción: inductor en serie')\n",
    "print_latex(a_equal_b_latex_s('L_2', L2))"
   ]
  },
  {
   "cell_type": "code",
   "execution_count": 6,
   "id": "5e7a3d98",
   "metadata": {},
   "outputs": [
    {
     "data": {
      "text/markdown": [
       "#### Red resultante"
      ],
      "text/plain": [
       "<IPython.core.display.Markdown object>"
      ]
     },
     "metadata": {},
     "output_type": "display_data"
    },
    {
     "data": {
      "image/png": "[encoded data removed]",
      "image/svg+xml": [
       "<?xml version=\"1.0\" encoding=\"utf-8\" standalone=\"no\"?>\n",
       "<!DOCTYPE svg PUBLIC \"-//W3C//DTD SVG 1.1//EN\"\n",
       "  \"http://www.w3.org/Graphics/SVG/1.1/DTD/svg11.dtd\">\n",
       "<svg xmlns:xlink=\"http://www.w3.org/1999/xlink\" width=\"768.9042pt\" height=\"237.95pt\" viewBox=\"0 0 768.9042 237.95\" xmlns=\"http://www.w3.org/2000/svg\" version=\"1.1\">\n",
       " <metadata>\n",
       "  <rdf:RDF xmlns:dc=\"http://purl.org/dc/elements/1.1/\" xmlns:cc=\"http://creativecommons.org/ns#\" xmlns:rdf=\"http://www.w3.org/1999/02/22-rdf-syntax-ns#\">\n",
       "   <cc:Work>\n",
       "    <dc:type rdf:resource=\"http://purl.org/dc/dcmitype/StillImage\"/>\n",
       "    <dc:date>2023-11-22T20:26:11.459103</dc:date>\n",
       "    <dc:format>image/svg+xml</dc:format>\n",
       "    <dc:creator>\n",
       "     <cc:Agent>\n",
       "      <dc:title>Matplotlib v3.7.1, https://matplotlib.org/</dc:title>\n",
       "     </cc:Agent>\n",
       "    </dc:creator>\n",
       "   </cc:Work>\n",
       "  </rdf:RDF>\n",
       " </metadata>\n",
       " <defs>\n",
       "  <style type=\"text/css\">*{stroke-linejoin: round; stroke-linecap: butt}</style>\n",
       " </defs>\n",
       " <g id=\"figure_1\">\n",
       "  <g id=\"patch_1\">\n",
       "   <path d=\"M 0 237.95 \n",
       "L 768.9042 237.95 \n",
       "L 768.9042 0 \n",
       "L 0 0 \n",
       "z\n",
       "\" style=\"fill: #ffffff\"/>\n",
       "  </g>\n",
       "  <g id=\"axes_1\">\n",
       "   <g id=\"patch_2\">\n",
       "    <path d=\"M 501.6042 128.24 \n",
       "C 502.618264 128.24 503.591832 127.836735 504.308883 127.119683 \n",
       "C 505.025935 126.402632 505.4292 125.429064 505.4292 124.415 \n",
       "C 505.4292 123.400936 505.025935 122.427368 504.308883 121.710317 \n",
       "C 503.591832 120.993265 502.618264 120.59 501.6042 120.59 \n",
       "\" clip-path=\"url(#pfbd69240b0)\" style=\"fill: none; stroke: #000000; stroke-width: 2; stroke-linejoin: miter\"/>\n",
       "   </g>\n",
       "   <g id=\"patch_3\">\n",
       "    <path d=\"M 501.6042 135.89 \n",
       "C 502.618264 135.89 503.591832 135.486735 504.308883 134.769683 \n",
       "C 505.025935 134.052632 505.4292 133.079064 505.4292 132.065 \n",
       "C 505.4292 131.050936 505.025935 130.077368 504.308883 129.360317 \n",
       "C 503.591832 128.643265 502.618264 128.24 501.6042 128.24 \n",
       "\" clip-path=\"url(#pfbd69240b0)\" style=\"fill: none; stroke: #000000; stroke-width: 2; stroke-linejoin: miter\"/>\n",
       "   </g>\n",
       "   <g id=\"patch_4\">\n",
       "    <path d=\"M 501.6042 143.54 \n",
       "C 502.618264 143.54 503.591832 143.136735 504.308883 142.419683 \n",
       "C 505.025935 141.702632 505.4292 140.729064 505.4292 139.715 \n",
       "C 505.4292 138.700936 505.025935 137.727368 504.308883 137.010317 \n",
       "C 503.591832 136.293265 502.618264 135.89 501.6042 135.89 \n",
       "\" clip-path=\"url(#pfbd69240b0)\" style=\"fill: none; stroke: #000000; stroke-width: 2; stroke-linejoin: miter\"/>\n",
       "   </g>\n",
       "   <g id=\"patch_5\">\n",
       "    <path d=\"M 501.6042 151.19 \n",
       "C 502.618264 151.19 503.591832 150.786735 504.308883 150.069683 \n",
       "C 505.025935 149.352632 505.4292 148.379064 505.4292 147.365 \n",
       "C 505.4292 146.350936 505.025935 145.377368 504.308883 144.660317 \n",
       "C 503.591832 143.943265 502.618264 143.54 501.6042 143.54 \n",
       "\" clip-path=\"url(#pfbd69240b0)\" style=\"fill: none; stroke: #000000; stroke-width: 2; stroke-linejoin: miter\"/>\n",
       "   </g>\n",
       "   <g id=\"patch_6\">\n",
       "    <path d=\"M 677.5542 44.09 \n",
       "C 677.5542 43.075936 677.150935 42.102368 676.433883 41.385317 \n",
       "C 675.716832 40.668265 674.743264 40.265 673.7292 40.265 \n",
       "C 672.715136 40.265 671.741568 40.668265 671.024517 41.385317 \n",
       "C 670.307465 42.102368 669.9042 43.075936 669.9042 44.09 \n",
       "\" clip-path=\"url(#pfbd69240b0)\" style=\"fill: none; stroke: #000000; stroke-width: 2; stroke-linejoin: miter\"/>\n",
       "   </g>\n",
       "   <g id=\"patch_7\">\n",
       "    <path d=\"M 685.2042 44.09 \n",
       "C 685.2042 43.075936 684.800935 42.102368 684.083883 41.385317 \n",
       "C 683.366832 40.668265 682.393264 40.265 681.3792 40.265 \n",
       "C 680.365136 40.265 679.391568 40.668265 678.674517 41.385317 \n",
       "C 677.957465 42.102368 677.5542 43.075936 677.5542 44.09 \n",
       "\" clip-path=\"url(#pfbd69240b0)\" style=\"fill: none; stroke: #000000; stroke-width: 2; stroke-linejoin: miter\"/>\n",
       "   </g>\n",
       "   <g id=\"patch_8\">\n",
       "    <path d=\"M 692.8542 44.09 \n",
       "C 692.8542 43.075936 692.450935 42.102368 691.733883 41.385317 \n",
       "C 691.016832 40.668265 690.043264 40.265 689.0292 40.265 \n",
       "C 688.015136 40.265 687.041568 40.668265 686.324517 41.385317 \n",
       "C 685.607465 42.102368 685.2042 43.075936 685.2042 44.09 \n",
       "\" clip-path=\"url(#pfbd69240b0)\" style=\"fill: none; stroke: #000000; stroke-width: 2; stroke-linejoin: miter\"/>\n",
       "   </g>\n",
       "   <g id=\"patch_9\">\n",
       "    <path d=\"M 700.5042 44.09 \n",
       "C 700.5042 43.075936 700.100935 42.102368 699.383883 41.385317 \n",
       "C 698.666832 40.668265 697.693264 40.265 696.6792 40.265 \n",
       "C 695.665136 40.265 694.691568 40.668265 693.974517 41.385317 \n",
       "C 693.257465 42.102368 692.8542 43.075936 692.8542 44.09 \n",
       "\" clip-path=\"url(#pfbd69240b0)\" style=\"fill: none; stroke: #000000; stroke-width: 2; stroke-linejoin: miter\"/>\n",
       "   </g>\n",
       "   <g id=\"line2d_1\">\n",
       "    <path d=\"M 256.8042 166.49 \n",
       "L 287.4042 166.49 \n",
       "L 318.0042 166.49 \n",
       "\" clip-path=\"url(#pfbd69240b0)\" style=\"fill: none; stroke: #000000; stroke-width: 2; stroke-linecap: round\"/>\n",
       "   </g>\n",
       "   <g id=\"line2d_2\">\n",
       "    <path d=\"M 318.0042 44.09 \n",
       "L 302.7042 44.09 \n",
       "L 287.4042 44.09 \n",
       "\" clip-path=\"url(#pfbd69240b0)\" style=\"fill: none; stroke: #000000; stroke-width: 2; stroke-linecap: round\"/>\n",
       "   </g>\n",
       "   <g id=\"line2d_3\">\n",
       "    <path d=\"M 279.7542 44.09 \n",
       "L 272.1042 44.09 \n",
       "L 256.8042 44.09 \n",
       "\" clip-path=\"url(#pfbd69240b0)\" style=\"fill: none; stroke: #000000; stroke-width: 2; stroke-linecap: round\"/>\n",
       "   </g>\n",
       "   <g id=\"patch_10\">\n",
       "    <path d=\"M 279.7542 41.795 \n",
       "L 287.4042 44.09 \n",
       "L 279.7542 46.385 \n",
       "z\n",
       "\" clip-path=\"url(#pfbd69240b0)\"/>\n",
       "   </g>\n",
       "   <g id=\"line2d_4\">\n",
       "    <path d=\"M 318.0042 44.09 \n",
       "L 333.3042 44.09 \n",
       "L 348.6042 44.09 \n",
       "\" clip-path=\"url(#pfbd69240b0)\" style=\"fill: none; stroke: #000000; stroke-width: 2; stroke-linecap: round\"/>\n",
       "   </g>\n",
       "   <g id=\"line2d_5\">\n",
       "    <path d=\"M 348.6042 172.61 \n",
       "L 348.6042 157.31 \n",
       "L 348.6042 142.01 \n",
       "\" clip-path=\"url(#pfbd69240b0)\" style=\"fill: none; stroke: #000000; stroke-linecap: round\"/>\n",
       "   </g>\n",
       "   <g id=\"line2d_6\">\n",
       "    <path d=\"M 348.6042 142.01 \n",
       "L 356.2542 142.01 \n",
       "L 356.2542 142.01 \n",
       "\" clip-path=\"url(#pfbd69240b0)\" style=\"fill: none; stroke: #000000; stroke-linecap: round\"/>\n",
       "   </g>\n",
       "   <g id=\"patch_11\">\n",
       "    <path d=\"M 356.2542 139.715 \n",
       "L 363.9042 142.01 \n",
       "L 356.2542 144.305 \n",
       "z\n",
       "\" clip-path=\"url(#pfbd69240b0)\"/>\n",
       "   </g>\n",
       "   <g id=\"line2d_7\">\n",
       "    <path d=\"M 348.6042 166.49 \n",
       "L 333.3042 166.49 \n",
       "L 318.0042 166.49 \n",
       "\" clip-path=\"url(#pfbd69240b0)\" style=\"fill: none; stroke: #000000; stroke-width: 2; stroke-linecap: round\"/>\n",
       "   </g>\n",
       "   <g id=\"line2d_8\">\n",
       "    <path d=\"M 348.6042 166.49 \n",
       "L 363.9042 166.49 \n",
       "L 379.2042 166.49 \n",
       "\" clip-path=\"url(#pfbd69240b0)\" style=\"fill: none; stroke: #000000; stroke-width: 2; stroke-linecap: round\"/>\n",
       "   </g>\n",
       "   <g id=\"line2d_9\">\n",
       "    <path d=\"M 348.6042 44.09 \n",
       "L 363.9042 44.09 \n",
       "L 379.2042 44.09 \n",
       "\" clip-path=\"url(#pfbd69240b0)\" style=\"fill: none; stroke: #000000; stroke-width: 2; stroke-linecap: round\"/>\n",
       "   </g>\n",
       "   <g id=\"line2d_10\">\n",
       "    <path d=\"M 379.2042 44.09 \n",
       "L 437.6502 44.09 \n",
       "M 437.6502 36.44 \n",
       "L 437.6502 51.74 \n",
       "M 443.1582 36.44 \n",
       "L 443.1582 51.74 \n",
       "M 443.1582 44.09 \n",
       "L 501.6042 44.09 \n",
       "\" clip-path=\"url(#pfbd69240b0)\" style=\"fill: none; stroke: #000000; stroke-width: 2; stroke-linecap: round\"/>\n",
       "   </g>\n",
       "   <g id=\"line2d_11\">\n",
       "    <path d=\"M 501.6042 166.49 \n",
       "L 440.4042 166.49 \n",
       "L 379.2042 166.49 \n",
       "\" clip-path=\"url(#pfbd69240b0)\" style=\"fill: none; stroke: #000000; stroke-width: 2; stroke-linecap: round\"/>\n",
       "   </g>\n",
       "   <g id=\"line2d_12\">\n",
       "    <path d=\"M 501.6042 44.09 \n",
       "L 501.6042 71.936 \n",
       "M 509.2542 71.936 \n",
       "L 493.9542 71.936 \n",
       "M 509.2542 77.444 \n",
       "L 493.9542 77.444 \n",
       "M 501.6042 77.444 \n",
       "L 501.6042 105.29 \n",
       "\" clip-path=\"url(#pfbd69240b0)\" style=\"fill: none; stroke: #000000; stroke-width: 2; stroke-linecap: round\"/>\n",
       "   </g>\n",
       "   <g id=\"line2d_13\">\n",
       "    <path d=\"M 501.6042 105.29 \n",
       "L 501.6042 120.59 \n",
       "M 501.6042 151.19 \n",
       "L 501.6042 166.49 \n",
       "\" clip-path=\"url(#pfbd69240b0)\" style=\"fill: none; stroke: #000000; stroke-width: 2; stroke-linecap: round\"/>\n",
       "   </g>\n",
       "   <g id=\"line2d_14\">\n",
       "    <path d=\"M 501.6042 44.09 \n",
       "L 560.0502 44.09 \n",
       "M 560.0502 36.44 \n",
       "L 560.0502 51.74 \n",
       "M 565.5582 36.44 \n",
       "L 565.5582 51.74 \n",
       "M 565.5582 44.09 \n",
       "L 624.0042 44.09 \n",
       "\" clip-path=\"url(#pfbd69240b0)\" style=\"fill: none; stroke: #000000; stroke-width: 2; stroke-linecap: round\"/>\n",
       "   </g>\n",
       "   <g id=\"line2d_15\">\n",
       "    <path d=\"M 624.0042 166.49 \n",
       "L 562.8042 166.49 \n",
       "L 501.6042 166.49 \n",
       "\" clip-path=\"url(#pfbd69240b0)\" style=\"fill: none; stroke: #000000; stroke-width: 2; stroke-linecap: round\"/>\n",
       "   </g>\n",
       "   <g id=\"line2d_16\">\n",
       "    <path d=\"M 624.0042 44.09 \n",
       "L 669.9042 44.09 \n",
       "M 700.5042 44.09 \n",
       "L 746.4042 44.09 \n",
       "\" clip-path=\"url(#pfbd69240b0)\" style=\"fill: none; stroke: #000000; stroke-width: 2; stroke-linecap: round\"/>\n",
       "   </g>\n",
       "   <g id=\"line2d_17\">\n",
       "    <path d=\"M 746.4042 166.49 \n",
       "L 685.2042 166.49 \n",
       "L 624.0042 166.49 \n",
       "\" clip-path=\"url(#pfbd69240b0)\" style=\"fill: none; stroke: #000000; stroke-width: 2; stroke-linecap: round\"/>\n",
       "   </g>\n",
       "   <g id=\"text_1\">\n",
       "    <g clip-path=\"url(#pfbd69240b0)\">\n",
       "     <!-- + -->\n",
       "     <g transform=\"translate(250.728927 78.691094) scale(0.145 -0.145)\">\n",
       "      <defs>\n",
       "       <path id=\"DejaVuSans-2b\" d=\"M 2944 4013 \n",
       "L 2944 2272 \n",
       "L 4684 2272 \n",
       "L 4684 1741 \n",
       "L 2944 1741 \n",
       "L 2944 0 \n",
       "L 2419 0 \n",
       "L 2419 1741 \n",
       "L 678 1741 \n",
       "L 678 2272 \n",
       "L 2419 2272 \n",
       "L 2419 4013 \n",
       "L 2944 4013 \n",
       "z\n",
       "\" transform=\"scale(0.015625)\"/>\n",
       "      </defs>\n",
       "      <use xlink:href=\"#DejaVuSans-2b\"/>\n",
       "     </g>\n",
       "    </g>\n",
       "   </g>\n",
       "   <g id=\"text_2\">\n",
       "    <g clip-path=\"url(#pfbd69240b0)\">\n",
       "     <!-- $V$ -->\n",
       "     <g transform=\"translate(251.8017 109.291094) scale(0.145 -0.145)\">\n",
       "      <defs>\n",
       "       <path id=\"DejaVuSans-Oblique-56\" d=\"M 1319 0 \n",
       "L 500 4666 \n",
       "L 1119 4666 \n",
       "L 1797 653 \n",
       "L 4063 4666 \n",
       "L 4750 4666 \n",
       "L 2053 0 \n",
       "L 1319 0 \n",
       "z\n",
       "\" transform=\"scale(0.015625)\"/>\n",
       "      </defs>\n",
       "      <use xlink:href=\"#DejaVuSans-Oblique-56\" transform=\"translate(0 0.09375)\"/>\n",
       "     </g>\n",
       "    </g>\n",
       "   </g>\n",
       "   <g id=\"text_3\">\n",
       "    <g clip-path=\"url(#pfbd69240b0)\">\n",
       "     <!-- - -->\n",
       "     <g transform=\"translate(254.188536 139.891094) scale(0.145 -0.145)\">\n",
       "      <defs>\n",
       "       <path id=\"DejaVuSans-2d\" d=\"M 313 2009 \n",
       "L 1997 2009 \n",
       "L 1997 1497 \n",
       "L 313 1497 \n",
       "L 313 2009 \n",
       "z\n",
       "\" transform=\"scale(0.015625)\"/>\n",
       "      </defs>\n",
       "      <use xlink:href=\"#DejaVuSans-2d\"/>\n",
       "     </g>\n",
       "    </g>\n",
       "   </g>\n",
       "   <g id=\"text_4\">\n",
       "    <g clip-path=\"url(#pfbd69240b0)\">\n",
       "     <!-- $I$ -->\n",
       "     <g transform=\"translate(269.9292 38.014453) scale(0.145 -0.145)\">\n",
       "      <defs>\n",
       "       <path id=\"DejaVuSans-Oblique-49\" d=\"M 1081 4666 \n",
       "L 1716 4666 \n",
       "L 806 0 \n",
       "L 172 0 \n",
       "L 1081 4666 \n",
       "z\n",
       "\" transform=\"scale(0.015625)\"/>\n",
       "      </defs>\n",
       "      <use xlink:href=\"#DejaVuSans-Oblique-49\" transform=\"translate(0 0.09375)\"/>\n",
       "     </g>\n",
       "    </g>\n",
       "   </g>\n",
       "   <g id=\"text_5\">\n",
       "    <g clip-path=\"url(#pfbd69240b0)\">\n",
       "     <!-- $ Y_{11}(S) = \\frac{3 s \\left(s^{2} + \\frac{7}{3}\\right)}{\\left(s^{2} + 2\\right) \\left(s^{2} + 5\\right)} $ -->\n",
       "     <g transform=\"translate(251.6392 210.285) scale(0.205 -0.205)\">\n",
       "      <defs>\n",
       "       <path id=\"DejaVuSans-Oblique-59\" d=\"M 403 4666 \n",
       "L 1081 4666 \n",
       "L 1953 2747 \n",
       "L 3616 4666 \n",
       "L 4325 4666 \n",
       "L 2209 2222 \n",
       "L 1778 0 \n",
       "L 1147 0 \n",
       "L 1575 2222 \n",
       "L 403 4666 \n",
       "z\n",
       "\" transform=\"scale(0.015625)\"/>\n",
       "       <path id=\"DejaVuSans-31\" d=\"M 794 531 \n",
       "L 1825 531 \n",
       "L 1825 4091 \n",
       "L 703 3866 \n",
       "L 703 4441 \n",
       "L 1819 4666 \n",
       "L 2450 4666 \n",
       "L 2450 531 \n",
       "L 3481 531 \n",
       "L 3481 0 \n",
       "L 794 0 \n",
       "L 794 531 \n",
       "z\n",
       "\" transform=\"scale(0.015625)\"/>\n",
       "       <path id=\"DejaVuSans-28\" d=\"M 1984 4856 \n",
       "Q 1566 4138 1362 3434 \n",
       "Q 1159 2731 1159 2009 \n",
       "Q 1159 1288 1364 580 \n",
       "Q 1569 -128 1984 -844 \n",
       "L 1484 -844 \n",
       "Q 1016 -109 783 600 \n",
       "Q 550 1309 550 2009 \n",
       "Q 550 2706 781 3412 \n",
       "Q 1013 4119 1484 4856 \n",
       "L 1984 4856 \n",
       "z\n",
       "\" transform=\"scale(0.015625)\"/>\n",
       "       <path id=\"DejaVuSans-Oblique-53\" d=\"M 3859 4513 \n",
       "L 3738 3897 \n",
       "Q 3422 4066 3111 4152 \n",
       "Q 2800 4238 2509 4238 \n",
       "Q 1944 4238 1609 3991 \n",
       "Q 1275 3744 1275 3334 \n",
       "Q 1275 3109 1398 2989 \n",
       "Q 1522 2869 2034 2731 \n",
       "L 2413 2638 \n",
       "Q 3053 2472 3303 2217 \n",
       "Q 3553 1963 3553 1503 \n",
       "Q 3553 797 2998 353 \n",
       "Q 2444 -91 1538 -91 \n",
       "Q 1166 -91 791 -17 \n",
       "Q 416 56 38 206 \n",
       "L 166 856 \n",
       "Q 513 641 861 531 \n",
       "Q 1209 422 1556 422 \n",
       "Q 2147 422 2503 684 \n",
       "Q 2859 947 2859 1369 \n",
       "Q 2859 1650 2717 1795 \n",
       "Q 2575 1941 2106 2059 \n",
       "L 1728 2156 \n",
       "Q 1081 2325 845 2545 \n",
       "Q 609 2766 609 3163 \n",
       "Q 609 3859 1145 4304 \n",
       "Q 1681 4750 2541 4750 \n",
       "Q 2875 4750 3203 4690 \n",
       "Q 3531 4631 3859 4513 \n",
       "z\n",
       "\" transform=\"scale(0.015625)\"/>\n",
       "       <path id=\"DejaVuSans-29\" d=\"M 513 4856 \n",
       "L 1013 4856 \n",
       "Q 1481 4119 1714 3412 \n",
       "Q 1947 2706 1947 2009 \n",
       "Q 1947 1309 1714 600 \n",
       "Q 1481 -109 1013 -844 \n",
       "L 513 -844 \n",
       "Q 928 -128 1133 580 \n",
       "Q 1338 1288 1338 2009 \n",
       "Q 1338 2731 1133 3434 \n",
       "Q 928 4138 513 4856 \n",
       "z\n",
       "\" transform=\"scale(0.015625)\"/>\n",
       "       <path id=\"DejaVuSans-3d\" d=\"M 678 2906 \n",
       "L 4684 2906 \n",
       "L 4684 2381 \n",
       "L 678 2381 \n",
       "L 678 2906 \n",
       "z\n",
       "M 678 1631 \n",
       "L 4684 1631 \n",
       "L 4684 1100 \n",
       "L 678 1100 \n",
       "L 678 1631 \n",
       "z\n",
       "\" transform=\"scale(0.015625)\"/>\n",
       "       <path id=\"DejaVuSans-33\" d=\"M 2597 2516 \n",
       "Q 3050 2419 3304 2112 \n",
       "Q 3559 1806 3559 1356 \n",
       "Q 3559 666 3084 287 \n",
       "Q 2609 -91 1734 -91 \n",
       "Q 1441 -91 1130 -33 \n",
       "Q 819 25 488 141 \n",
       "L 488 750 \n",
       "Q 750 597 1062 519 \n",
       "Q 1375 441 1716 441 \n",
       "Q 2309 441 2620 675 \n",
       "Q 2931 909 2931 1356 \n",
       "Q 2931 1769 2642 2001 \n",
       "Q 2353 2234 1838 2234 \n",
       "L 1294 2234 \n",
       "L 1294 2753 \n",
       "L 1863 2753 \n",
       "Q 2328 2753 2575 2939 \n",
       "Q 2822 3125 2822 3475 \n",
       "Q 2822 3834 2567 4026 \n",
       "Q 2313 4219 1838 4219 \n",
       "Q 1578 4219 1281 4162 \n",
       "Q 984 4106 628 3988 \n",
       "L 628 4550 \n",
       "Q 988 4650 1302 4700 \n",
       "Q 1616 4750 1894 4750 \n",
       "Q 2613 4750 3031 4423 \n",
       "Q 3450 4097 3450 3541 \n",
       "Q 3450 3153 3228 2886 \n",
       "Q 3006 2619 2597 2516 \n",
       "z\n",
       "\" transform=\"scale(0.015625)\"/>\n",
       "       <path id=\"DejaVuSans-Oblique-73\" d=\"M 3200 3397 \n",
       "L 3091 2853 \n",
       "Q 2863 2978 2609 3040 \n",
       "Q 2356 3103 2088 3103 \n",
       "Q 1634 3103 1373 2948 \n",
       "Q 1113 2794 1113 2528 \n",
       "Q 1113 2219 1719 2053 \n",
       "Q 1766 2041 1788 2034 \n",
       "L 1972 1978 \n",
       "Q 2547 1819 2739 1644 \n",
       "Q 2931 1469 2931 1166 \n",
       "Q 2931 609 2489 259 \n",
       "Q 2047 -91 1331 -91 \n",
       "Q 1053 -91 747 -37 \n",
       "Q 441 16 72 128 \n",
       "L 184 722 \n",
       "Q 500 559 806 475 \n",
       "Q 1113 391 1394 391 \n",
       "Q 1816 391 2080 572 \n",
       "Q 2344 753 2344 1031 \n",
       "Q 2344 1331 1650 1516 \n",
       "L 1591 1531 \n",
       "L 1394 1581 \n",
       "Q 956 1697 753 1886 \n",
       "Q 550 2075 550 2369 \n",
       "Q 550 2928 970 3256 \n",
       "Q 1391 3584 2113 3584 \n",
       "Q 2397 3584 2667 3537 \n",
       "Q 2938 3491 3200 3397 \n",
       "z\n",
       "\" transform=\"scale(0.015625)\"/>\n",
       "       <path id=\"STIXSizeTwoSym-Regular-28\" d=\"M 3219 -1555 \n",
       "L 3219 -1786 \n",
       "Q 2144 -774 1517 730 \n",
       "Q 890 2234 890 4115 \n",
       "Q 890 6003 1533 7593 \n",
       "Q 2176 9184 3219 10022 \n",
       "L 3219 9811 \n",
       "Q 2490 9062 1994 7606 \n",
       "Q 1498 6150 1498 4115 \n",
       "Q 1498 563 3219 -1555 \n",
       "z\n",
       "\" transform=\"scale(0.015625)\"/>\n",
       "       <path id=\"DejaVuSans-32\" d=\"M 1228 531 \n",
       "L 3431 531 \n",
       "L 3431 0 \n",
       "L 469 0 \n",
       "L 469 531 \n",
       "Q 828 903 1448 1529 \n",
       "Q 2069 2156 2228 2338 \n",
       "Q 2531 2678 2651 2914 \n",
       "Q 2772 3150 2772 3378 \n",
       "Q 2772 3750 2511 3984 \n",
       "Q 2250 4219 1831 4219 \n",
       "Q 1534 4219 1204 4116 \n",
       "Q 875 4013 500 3803 \n",
       "L 500 4441 \n",
       "Q 881 4594 1212 4672 \n",
       "Q 1544 4750 1819 4750 \n",
       "Q 2544 4750 2975 4387 \n",
       "Q 3406 4025 3406 3419 \n",
       "Q 3406 3131 3298 2873 \n",
       "Q 3191 2616 2906 2266 \n",
       "Q 2828 2175 2409 1742 \n",
       "Q 1991 1309 1228 531 \n",
       "z\n",
       "\" transform=\"scale(0.015625)\"/>\n",
       "       <path id=\"DejaVuSans-37\" d=\"M 525 4666 \n",
       "L 3525 4666 \n",
       "L 3525 4397 \n",
       "L 1831 0 \n",
       "L 1172 0 \n",
       "L 2766 4134 \n",
       "L 525 4134 \n",
       "L 525 4666 \n",
       "z\n",
       "\" transform=\"scale(0.015625)\"/>\n",
       "       <path id=\"STIXSizeTwoSym-Regular-29\" d=\"M 730 9792 \n",
       "L 730 10022 \n",
       "Q 1805 9011 2432 7507 \n",
       "Q 3059 6003 3059 4115 \n",
       "Q 3059 2234 2416 643 \n",
       "Q 1773 -947 730 -1786 \n",
       "L 730 -1574 \n",
       "Q 1459 -826 1955 633 \n",
       "Q 2451 2093 2451 4115 \n",
       "Q 2451 7674 730 9792 \n",
       "z\n",
       "\" transform=\"scale(0.015625)\"/>\n",
       "       <path id=\"DejaVuSans-35\" d=\"M 691 4666 \n",
       "L 3169 4666 \n",
       "L 3169 4134 \n",
       "L 1269 4134 \n",
       "L 1269 2991 \n",
       "Q 1406 3038 1543 3061 \n",
       "Q 1681 3084 1819 3084 \n",
       "Q 2600 3084 3056 2656 \n",
       "Q 3513 2228 3513 1497 \n",
       "Q 3513 744 3044 326 \n",
       "Q 2575 -91 1722 -91 \n",
       "Q 1428 -91 1123 -41 \n",
       "Q 819 9 494 109 \n",
       "L 494 744 \n",
       "Q 775 591 1075 516 \n",
       "Q 1375 441 1709 441 \n",
       "Q 2250 441 2565 725 \n",
       "Q 2881 1009 2881 1497 \n",
       "Q 2881 1984 2565 2268 \n",
       "Q 2250 2553 1709 2553 \n",
       "Q 1456 2553 1204 2497 \n",
       "Q 953 2441 691 2322 \n",
       "L 691 4666 \n",
       "z\n",
       "\" transform=\"scale(0.015625)\"/>\n",
       "      </defs>\n",
       "      <use xlink:href=\"#DejaVuSans-Oblique-59\" transform=\"translate(0 0.540156)\"/>\n",
       "      <use xlink:href=\"#DejaVuSans-31\" transform=\"translate(61.083984 -15.866094) scale(0.7)\"/>\n",
       "      <use xlink:href=\"#DejaVuSans-31\" transform=\"translate(105.620117 -15.866094) scale(0.7)\"/>\n",
       "      <use xlink:href=\"#DejaVuSans-28\" transform=\"translate(152.890625 0.540156)\"/>\n",
       "      <use xlink:href=\"#DejaVuSans-Oblique-53\" transform=\"translate(191.904297 0.540156)\"/>\n",
       "      <use xlink:href=\"#DejaVuSans-29\" transform=\"translate(255.380859 0.540156)\"/>\n",
       "      <use xlink:href=\"#DejaVuSans-3d\" transform=\"translate(313.876953 0.540156)\"/>\n",
       "      <use xlink:href=\"#DejaVuSans-33\" transform=\"translate(504.148438 72.618125) scale(0.7)\"/>\n",
       "      <use xlink:href=\"#DejaVuSans-Oblique-73\" transform=\"translate(548.68457 72.618125) scale(0.7)\"/>\n",
       "      <use xlink:href=\"#STIXSizeTwoSym-Regular-28\" transform=\"translate(585.154297 58.588594) scale(0.513078)\"/>\n",
       "      <use xlink:href=\"#DejaVuSans-Oblique-73\" transform=\"translate(615.355266 72.618125) scale(0.7)\"/>\n",
       "      <use xlink:href=\"#DejaVuSans-32\" transform=\"translate(655.079919 99.415) scale(0.49)\"/>\n",
       "      <use xlink:href=\"#DejaVuSans-2b\" transform=\"translate(701.80697 72.618125) scale(0.7)\"/>\n",
       "      <use xlink:href=\"#DejaVuSans-37\" transform=\"translate(774.097009 103.275937) scale(0.49)\"/>\n",
       "      <use xlink:href=\"#DejaVuSans-33\" transform=\"translate(774.097009 45.03375) scale(0.49)\"/>\n",
       "      <use xlink:href=\"#STIXSizeTwoSym-Regular-29\" transform=\"translate(814.022302 58.588594) scale(0.513078)\"/>\n",
       "      <use xlink:href=\"#DejaVuSans-28\" transform=\"translate(417.148438 -50.077031) scale(0.7)\"/>\n",
       "      <use xlink:href=\"#DejaVuSans-Oblique-73\" transform=\"translate(444.458008 -50.077031) scale(0.7)\"/>\n",
       "      <use xlink:href=\"#DejaVuSans-32\" transform=\"translate(484.182661 -23.280156) scale(0.49)\"/>\n",
       "      <use xlink:href=\"#DejaVuSans-2b\" transform=\"translate(530.909712 -50.077031) scale(0.7)\"/>\n",
       "      <use xlink:href=\"#DejaVuSans-32\" transform=\"translate(603.199751 -50.077031) scale(0.7)\"/>\n",
       "      <use xlink:href=\"#DejaVuSans-29\" transform=\"translate(647.735884 -50.077031) scale(0.7)\"/>\n",
       "      <use xlink:href=\"#DejaVuSans-28\" transform=\"translate(675.045454 -50.077031) scale(0.7)\"/>\n",
       "      <use xlink:href=\"#DejaVuSans-Oblique-73\" transform=\"translate(702.355025 -50.077031) scale(0.7)\"/>\n",
       "      <use xlink:href=\"#DejaVuSans-32\" transform=\"translate(742.079678 -23.280156) scale(0.49)\"/>\n",
       "      <use xlink:href=\"#DejaVuSans-2b\" transform=\"translate(788.806729 -50.077031) scale(0.7)\"/>\n",
       "      <use xlink:href=\"#DejaVuSans-35\" transform=\"translate(861.096768 -50.077031) scale(0.7)\"/>\n",
       "      <use xlink:href=\"#DejaVuSans-29\" transform=\"translate(905.632901 -50.077031) scale(0.7)\"/>\n",
       "      <path d=\"M 774.097009 85.775937 \n",
       "L 774.097009 90.150937 \n",
       "L 805.272302 90.150937 \n",
       "L 805.272302 85.775937 \n",
       "L 774.097009 85.775937 \n",
       "z\n",
       "\"/>\n",
       "      <path d=\"M 417.148438 19.337031 \n",
       "L 417.148438 25.587031 \n",
       "L 932.942471 25.587031 \n",
       "L 932.942471 19.337031 \n",
       "L 417.148438 19.337031 \n",
       "z\n",
       "\"/>\n",
       "     </g>\n",
       "    </g>\n",
       "   </g>\n",
       "   <g id=\"text_6\">\n",
       "    <g clip-path=\"url(#pfbd69240b0)\">\n",
       "     <!-- $\\frac{1}{s}$ -->\n",
       "     <g transform=\"translate(436.1992 29.32) scale(0.145 -0.145)\">\n",
       "      <use xlink:href=\"#DejaVuSans-31\" transform=\"translate(0 43.965625) scale(0.7)\"/>\n",
       "      <use xlink:href=\"#DejaVuSans-Oblique-73\" transform=\"translate(4 -26.484375) scale(0.7)\"/>\n",
       "      <path d=\"M 0 18.965625 \n",
       "L 0 25.215625 \n",
       "L 44.536133 25.215625 \n",
       "L 44.536133 18.965625 \n",
       "L 0 18.965625 \n",
       "z\n",
       "\"/>\n",
       "     </g>\n",
       "    </g>\n",
       "   </g>\n",
       "   <g id=\"text_7\">\n",
       "    <g clip-path=\"url(#pfbd69240b0)\">\n",
       "     <!-- $2$ -->\n",
       "     <g transform=\"translate(481.6142 78.691094) scale(0.145 -0.145)\">\n",
       "      <use xlink:href=\"#DejaVuSans-32\" transform=\"translate(0 0.78125)\"/>\n",
       "     </g>\n",
       "    </g>\n",
       "   </g>\n",
       "   <g id=\"text_8\">\n",
       "    <g clip-path=\"url(#pfbd69240b0)\">\n",
       "     <!-- $\\frac{1}{2}$ -->\n",
       "     <g transform=\"translate(490.1342 139.8775) scale(0.145 -0.145)\">\n",
       "      <use xlink:href=\"#DejaVuSans-31\" transform=\"translate(0 43.965625) scale(0.7)\"/>\n",
       "      <use xlink:href=\"#DejaVuSans-32\" transform=\"translate(0 -39.2375) scale(0.7)\"/>\n",
       "      <path d=\"M 0 18.965625 \n",
       "L 0 25.215625 \n",
       "L 44.536133 25.215625 \n",
       "L 44.536133 18.965625 \n",
       "L 0 18.965625 \n",
       "z\n",
       "\"/>\n",
       "     </g>\n",
       "    </g>\n",
       "   </g>\n",
       "   <g id=\"text_9\">\n",
       "    <g clip-path=\"url(#pfbd69240b0)\">\n",
       "     <!-- $\\frac{3}{s}$ -->\n",
       "     <g transform=\"translate(558.5992 29.32) scale(0.145 -0.145)\">\n",
       "      <use xlink:href=\"#DejaVuSans-33\" transform=\"translate(0 45.046875) scale(0.7)\"/>\n",
       "      <use xlink:href=\"#DejaVuSans-Oblique-73\" transform=\"translate(4 -26.398438) scale(0.7)\"/>\n",
       "      <path d=\"M 0 19.051563 \n",
       "L 0 25.301563 \n",
       "L 44.536133 25.301563 \n",
       "L 44.536133 19.051563 \n",
       "L 0 19.051563 \n",
       "z\n",
       "\"/>\n",
       "     </g>\n",
       "    </g>\n",
       "   </g>\n",
       "   <g id=\"text_10\">\n",
       "    <g clip-path=\"url(#pfbd69240b0)\">\n",
       "     <!-- $s$ -->\n",
       "     <g transform=\"translate(681.3617 34.189472) scale(0.145 -0.145)\">\n",
       "      <use xlink:href=\"#DejaVuSans-Oblique-73\"/>\n",
       "     </g>\n",
       "    </g>\n",
       "   </g>\n",
       "   <g id=\"patch_12\">\n",
       "    <path d=\"M 256.8042 46.385 \n",
       "C 257.412841 46.385 257.996636 46.143184 258.42701 45.71281 \n",
       "C 258.857384 45.282436 259.0992 44.698641 259.0992 44.09 \n",
       "C 259.0992 43.481359 258.857384 42.897564 258.42701 42.46719 \n",
       "C 257.996636 42.036816 257.412841 41.795 256.8042 41.795 \n",
       "C 256.195559 41.795 255.611764 42.036816 255.18139 42.46719 \n",
       "C 254.751016 42.897564 254.5092 43.481359 254.5092 44.09 \n",
       "C 254.5092 44.698641 254.751016 45.282436 255.18139 45.71281 \n",
       "C 255.611764 46.143184 256.195559 46.385 256.8042 46.385 \n",
       "z\n",
       "\" clip-path=\"url(#pfbd69240b0)\" style=\"fill: #ffffff; stroke: #000000; stroke-width: 2; stroke-linejoin: miter\"/>\n",
       "   </g>\n",
       "   <g id=\"patch_13\">\n",
       "    <path d=\"M 256.8042 168.785 \n",
       "C 257.412841 168.785 257.996636 168.543184 258.42701 168.11281 \n",
       "C 258.857384 167.682436 259.0992 167.098641 259.0992 166.49 \n",
       "C 259.0992 165.881359 258.857384 165.297564 258.42701 164.86719 \n",
       "C 257.996636 164.436816 257.412841 164.195 256.8042 164.195 \n",
       "C 256.195559 164.195 255.611764 164.436816 255.18139 164.86719 \n",
       "C 254.751016 165.297564 254.5092 165.881359 254.5092 166.49 \n",
       "C 254.5092 167.098641 254.751016 167.682436 255.18139 168.11281 \n",
       "C 255.611764 168.543184 256.195559 168.785 256.8042 168.785 \n",
       "z\n",
       "\" clip-path=\"url(#pfbd69240b0)\" style=\"fill: #ffffff; stroke: #000000; stroke-width: 2; stroke-linejoin: miter\"/>\n",
       "   </g>\n",
       "   <g id=\"patch_14\">\n",
       "    <path d=\"M 501.6042 46.385 \n",
       "C 502.212841 46.385 502.796636 46.143184 503.22701 45.71281 \n",
       "C 503.657384 45.282436 503.8992 44.698641 503.8992 44.09 \n",
       "C 503.8992 43.481359 503.657384 42.897564 503.22701 42.46719 \n",
       "C 502.796636 42.036816 502.212841 41.795 501.6042 41.795 \n",
       "C 500.995559 41.795 500.411764 42.036816 499.98139 42.46719 \n",
       "C 499.551016 42.897564 499.3092 43.481359 499.3092 44.09 \n",
       "C 499.3092 44.698641 499.551016 45.282436 499.98139 45.71281 \n",
       "C 500.411764 46.143184 500.995559 46.385 501.6042 46.385 \n",
       "z\n",
       "\" clip-path=\"url(#pfbd69240b0)\" style=\"stroke: #000000; stroke-width: 2; stroke-linejoin: miter\"/>\n",
       "   </g>\n",
       "   <g id=\"patch_15\">\n",
       "    <path d=\"M 501.6042 168.785 \n",
       "C 502.212841 168.785 502.796636 168.543184 503.22701 168.11281 \n",
       "C 503.657384 167.682436 503.8992 167.098641 503.8992 166.49 \n",
       "C 503.8992 165.881359 503.657384 165.297564 503.22701 164.86719 \n",
       "C 502.796636 164.436816 502.212841 164.195 501.6042 164.195 \n",
       "C 500.995559 164.195 500.411764 164.436816 499.98139 164.86719 \n",
       "C 499.551016 165.297564 499.3092 165.881359 499.3092 166.49 \n",
       "C 499.3092 167.098641 499.551016 167.682436 499.98139 168.11281 \n",
       "C 500.411764 168.543184 500.995559 168.785 501.6042 168.785 \n",
       "z\n",
       "\" clip-path=\"url(#pfbd69240b0)\" style=\"stroke: #000000; stroke-width: 2; stroke-linejoin: miter\"/>\n",
       "   </g>\n",
       "  </g>\n",
       " </g>\n",
       " <defs>\n",
       "  <clipPath id=\"pfbd69240b0\">\n",
       "   <rect x=\"7.2\" y=\"7.2\" width=\"754.5042\" height=\"223.55\"/>\n",
       "  </clipPath>\n",
       " </defs>\n",
       "</svg>\n"
      ],
      "text/plain": [
       "<schemdraw.schemdraw.Drawing at 0x7f65c07157e0>"
      ]
     },
     "metadata": {},
     "output_type": "display_data"
    }
   ],
   "source": [
    "from pytc2.dibujar import display, dibujar_puerto_entrada, dibujar_puerto_salida, dibujar_funcion_exc_abajo, dibujar_elemento_serie, dibujar_elemento_derivacion, dibujar_tanque_RC_derivacion, dibujar_espacio_derivacion, dibujar_tanque_derivacion, Capacitor, Inductor, Resistor, ResistorIEC\n",
    "\n",
    "print_subtitle('Red resultante')\n",
    "\n",
    "d = dibujar_puerto_entrada('', voltage_lbl=('+', '$V$', '-'), current_lbl= '$I$')\n",
    "d, zz_lbl = dibujar_funcion_exc_abajo(d, 'Y_{11}(S)', Y11, hacia_salida=True, k_gap_width=0.5)\n",
    "d = dibujar_elemento_serie(d, Capacitor, C1)\n",
    "d = dibujar_tanque_derivacion(d, L1, C2)\n",
    "d = dibujar_elemento_serie(d, Capacitor, C3)\n",
    "d = dibujar_elemento_serie(d, Inductor, L2)\n",
    "\n",
    "display(d)"
   ]
  },
  {
   "cell_type": "markdown",
   "id": "efacaae8",
   "metadata": {},
   "source": [
    "<img src=\"./Circuito1.png\" align=\"center\" /> \n",
    "<img src=\"./Simulacion1.png\" align=\"center\" />"
   ]
  },
  {
   "cell_type": "markdown",
   "id": "30c8c733",
   "metadata": {},
   "source": [
    "<img src=\"./Ejercicio2.png\" align=\"center\" width=\"1500\" /> "
   ]
  },
  {
   "cell_type": "markdown",
   "id": "7236c75b",
   "metadata": {},
   "source": [
    "<img src=\"./Hoja3.jpeg\" align=\"center\" /> \n",
    "<img src=\"./Hoja4.jpeg\" align=\"center\" /> \n",
    "<img src=\"./Hoja5.jpeg\" align=\"center\" /> "
   ]
  },
  {
   "cell_type": "code",
   "execution_count": 7,
   "id": "cecd61f3",
   "metadata": {},
   "outputs": [],
   "source": [
    "import numpy as np\n",
    "from pytc2.remociones import remover_valor_en_infinito, remover_polo_sigma"
   ]
  },
  {
   "cell_type": "code",
   "execution_count": 8,
   "id": "db952e1e",
   "metadata": {},
   "outputs": [
    {
     "data": {
      "text/latex": [
       "$\\displaystyle Z_{11}(s)=\\frac{\\left(s + 2\\right) \\left(s + 4\\right)}{s \\left(s + 3\\right)}$"
      ],
      "text/plain": [
       "<IPython.core.display.Math object>"
      ]
     },
     "metadata": {},
     "output_type": "display_data"
    },
    {
     "data": {
      "text/markdown": [
       "#### Primer remoción: resistencia en serie"
      ],
      "text/plain": [
       "<IPython.core.display.Markdown object>"
      ]
     },
     "metadata": {},
     "output_type": "display_data"
    },
    {
     "data": {
      "text/latex": [
       "$\\displaystyle R_1=1$"
      ],
      "text/plain": [
       "<IPython.core.display.Math object>"
      ]
     },
     "metadata": {},
     "output_type": "display_data"
    },
    {
     "data": {
      "text/markdown": [
       "#### Impedancia resultante"
      ],
      "text/plain": [
       "<IPython.core.display.Markdown object>"
      ]
     },
     "metadata": {},
     "output_type": "display_data"
    },
    {
     "data": {
      "text/latex": [
       "$\\displaystyle Z=\\frac{3 s + 8}{s \\left(s + 3\\right)}$"
      ],
      "text/plain": [
       "<IPython.core.display.Math object>"
      ]
     },
     "metadata": {},
     "output_type": "display_data"
    }
   ],
   "source": [
    "Z11 = sp.nsimplify(((s + 2)*(s + 4))/(s*(s + 3)))\n",
    "\n",
    "print_latex(a_equal_b_latex_s('Z_{11}(s)', Z11))\n",
    "\n",
    "Z, R1 = remover_valor_en_infinito(Z11)\n",
    "\n",
    "\n",
    "print_subtitle('Primer remoción: resistencia en serie')\n",
    "print_latex(a_equal_b_latex_s('R_1', R1))\n",
    "print_subtitle('Impedancia resultante')\n",
    "print_latex(a_equal_b_latex_s('Z', Z))"
   ]
  },
  {
   "cell_type": "code",
   "execution_count": 9,
   "id": "d88d38d0",
   "metadata": {},
   "outputs": [
    {
     "data": {
      "text/latex": [
       "$\\displaystyle C_1=\\frac{5}{2 s}$"
      ],
      "text/plain": [
       "<IPython.core.display.Math object>"
      ]
     },
     "metadata": {},
     "output_type": "display_data"
    },
    {
     "data": {
      "text/markdown": [
       "#### Impedancia resultante"
      ],
      "text/plain": [
       "<IPython.core.display.Markdown object>"
      ]
     },
     "metadata": {},
     "output_type": "display_data"
    },
    {
     "data": {
      "text/latex": [
       "$\\displaystyle Z_a=\\frac{s + 1}{2 s \\left(s + 3\\right)}$"
      ],
      "text/plain": [
       "<IPython.core.display.Math object>"
      ]
     },
     "metadata": {},
     "output_type": "display_data"
    }
   ],
   "source": [
    "#No encuentro función que resuelva directamente\n",
    "\n",
    "C1 = 5/(2*s)\n",
    "Za = (s + 1)/(2*s*(s + 3))\n",
    "\n",
    "print_latex(a_equal_b_latex_s('C_1', C1))\n",
    "print_subtitle('Impedancia resultante')\n",
    "print_latex(a_equal_b_latex_s('Z_a', Za))"
   ]
  },
  {
   "cell_type": "code",
   "execution_count": 10,
   "id": "4ff397d3",
   "metadata": {},
   "outputs": [
    {
     "data": {
      "text/markdown": [
       "#### Tercer remoción: Tanque RC en derivación"
      ],
      "text/plain": [
       "<IPython.core.display.Markdown object>"
      ]
     },
     "metadata": {},
     "output_type": "display_data"
    },
    {
     "data": {
      "text/latex": [
       "$\\displaystyle R_{1}=\\frac{1}{4}$"
      ],
      "text/plain": [
       "<IPython.core.display.Math object>"
      ]
     },
     "metadata": {},
     "output_type": "display_data"
    },
    {
     "data": {
      "text/latex": [
       "$\\displaystyle C_{2}=4$"
      ],
      "text/plain": [
       "<IPython.core.display.Math object>"
      ]
     },
     "metadata": {},
     "output_type": "display_data"
    },
    {
     "data": {
      "text/markdown": [
       "#### Admitancia resultante"
      ],
      "text/plain": [
       "<IPython.core.display.Markdown object>"
      ]
     },
     "metadata": {},
     "output_type": "display_data"
    },
    {
     "data": {
      "text/latex": [
       "$\\displaystyle Y_b=2 s$"
      ],
      "text/plain": [
       "<IPython.core.display.Math object>"
      ]
     },
     "metadata": {},
     "output_type": "display_data"
    }
   ],
   "source": [
    "Ya = 1/Za\n",
    "\n",
    "Yb, YRC, R1, C2 = remover_polo_sigma(Ya, sigma = -1, isImpedance = False, isRC = True )\n",
    "\n",
    "print_subtitle('Tercer remoción: Tanque RC en derivación')\n",
    "print_latex(a_equal_b_latex_s('R_{1}', R1))\n",
    "print_latex(a_equal_b_latex_s('C_{2}', C2))\n",
    "print_subtitle('Admitancia resultante')\n",
    "print_latex(a_equal_b_latex_s('Y_b', Yb))"
   ]
  },
  {
   "cell_type": "code",
   "execution_count": 11,
   "id": "1a045110",
   "metadata": {},
   "outputs": [
    {
     "data": {
      "text/markdown": [
       "#### Cuarta remoción: capacitor en derivación"
      ],
      "text/plain": [
       "<IPython.core.display.Markdown object>"
      ]
     },
     "metadata": {},
     "output_type": "display_data"
    },
    {
     "data": {
      "text/latex": [
       "$\\displaystyle C_3=2 s$"
      ],
      "text/plain": [
       "<IPython.core.display.Math object>"
      ]
     },
     "metadata": {},
     "output_type": "display_data"
    }
   ],
   "source": [
    "C3 = Yb\n",
    "\n",
    "print_subtitle('Cuarta remoción: capacitor en derivación')\n",
    "print_latex(a_equal_b_latex_s('C_3', C3))"
   ]
  },
  {
   "cell_type": "code",
   "execution_count": 12,
   "id": "ab97a267",
   "metadata": {},
   "outputs": [
    {
     "data": {
      "text/markdown": [
       "#### Red resultante"
      ],
      "text/plain": [
       "<IPython.core.display.Markdown object>"
      ]
     },
     "metadata": {},
     "output_type": "display_data"
    },
    {
     "ename": "NameError",
     "evalue": "name 'R2' is not defined",
     "output_type": "error",
     "traceback": [
      "\u001b[0;31m---------------------------------------------------------------------------\u001b[0m",
      "\u001b[0;31mNameError\u001b[0m                                 Traceback (most recent call last)",
      "Cell \u001b[0;32mIn[12], line 7\u001b[0m\n\u001b[1;32m      5\u001b[0m d \u001b[38;5;241m=\u001b[39m dibujar_elemento_serie(d, Resistor, R1)\n\u001b[1;32m      6\u001b[0m d \u001b[38;5;241m=\u001b[39m dibujar_elemento_serie(d, Capacitor, C1)\n\u001b[0;32m----> 7\u001b[0m d \u001b[38;5;241m=\u001b[39m dibujar_tanque_RC_derivacion(d, sym_R_label\u001b[38;5;241m=\u001b[39m\u001b[43mR2\u001b[49m, capacitor_lbl\u001b[38;5;241m=\u001b[39mC2)\n\u001b[1;32m      8\u001b[0m d \u001b[38;5;241m=\u001b[39m dibujar_espacio_derivacion(d)\n\u001b[1;32m      9\u001b[0m d \u001b[38;5;241m=\u001b[39m dibujar_elemento_derivacion(d, Capacitor, C3)\n",
      "\u001b[0;31mNameError\u001b[0m: name 'R2' is not defined"
     ]
    }
   ],
   "source": [
    "print_subtitle('Red resultante')\n",
    "\n",
    "d = dibujar_puerto_entrada('', voltage_lbl=('+', '$V$', '-'), current_lbl= '$I$')\n",
    "d, zz_lbl = dibujar_funcion_exc_abajo(d, 'z_{11}(S)', Z11, hacia_salida=True, k_gap_width=0.5)\n",
    "d = dibujar_elemento_serie(d, Resistor, R1)\n",
    "d = dibujar_elemento_serie(d, Capacitor, C1)\n",
    "d = dibujar_tanque_RC_derivacion(d, sym_R_label=R2, capacitor_lbl=C2)\n",
    "d = dibujar_espacio_derivacion(d)\n",
    "d = dibujar_elemento_derivacion(d, Capacitor, C3)\n",
    "\n",
    "display(d)"
   ]
  },
  {
   "cell_type": "markdown",
   "id": "b1e98578",
   "metadata": {},
   "source": [
    "<img src=\"./Circuito2.png\" align=\"center\" /> \n",
    "<img src=\"./Simulacion2.png\" align=\"center\" />"
   ]
  }
 ],
 "metadata": {
  "kernelspec": {
   "display_name": "Python 3 (ipykernel)",
   "language": "python",
   "name": "python3"
  },
  "language_info": {
   "codemirror_mode": {
    "name": "ipython",
    "version": 3
   },
   "file_extension": ".py",
   "mimetype": "text/x-python",
   "name": "python",
   "nbconvert_exporter": "python",
   "pygments_lexer": "ipython3",
   "version": "3.10.12"
  }
 },
 "nbformat": 4,
 "nbformat_minor": 5
}
