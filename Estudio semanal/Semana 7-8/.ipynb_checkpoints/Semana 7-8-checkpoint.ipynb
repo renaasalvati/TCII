{
 "cells": [
  {
   "cell_type": "markdown",
   "id": "c4d51ee6",
   "metadata": {},
   "source": [
    "# Semana 7\n",
    "\n",
    "Para esta semana tuve alrededor de 8hs de estudio.\n",
    "\n",
    "Comencé con los puntos faltantes de la TS3. Para el armado del circuito pasivo y desnormalización de los componentes no tuve mayores inconvenientes y las simulaciones dieron bien.\n",
    "\n",
    "Cuando quise encarar la parte de activación del circuito comencé a tener dificultades nuevamente. Revisando el canal de youtube para ver si podía complementar con algún video encontré unos que me quedaron sin ver y quizas un poco escenciales para esta parte, por lo que me puse a verlos:\n",
    "\n",
    "<img src=\"./Videos1.png\" align=\"center\" width=\"800\" /> \n",
    "\n",
    "A su vez también fui complementando con el capítulo 4 del Shaumann.\n",
    "\n",
    "Se tomaron apuntes:\n",
    "\n",
    "<img src=\"./Hoja1.jpeg\" align=\"center\" width=\"700\" /> \n",
    "<img src=\"./Hoja2.jpeg\" align=\"center\" width=\"700\" /> \n",
    "<img src=\"./Hoja3.jpeg\" align=\"center\" width=\"700\" /> \n",
    "<img src=\"./Hoja4.jpeg\" align=\"center\" width=\"700\" /> "
   ]
  },
  {
   "cell_type": "markdown",
   "id": "ec30788f",
   "metadata": {},
   "source": [
    "También miré alguno de los videos del *apéndice de OPAMPS* y tomé algunas anotaciones escenciales:\n",
    "<img src=\"./Videos2.png\" align=\"center\" width=\"700\" /> \n",
    "<img src=\"./Hoja5.jpeg\" align=\"center\" width=\"400\" /> \n",
    "<img src=\"./Hoja6.jpeg\" align=\"center\" width=\"400\" /> "
   ]
  },
  {
   "cell_type": "markdown",
   "id": "700ab17f",
   "metadata": {},
   "source": [
    "Tratando de volver a retomar el ejercicio 5 de la TS3 me ayudé con el capítulo 14 del Schaumann. En un principio hice mal el planteo ya que realicé la transformación de Bruton y luego reemplacé lo que era el inductor por el GIC de Antiniou; me di cuenta de esto ya que las simulaciones no me estaban dando como correspondían (debía ser un pasabajos y no un pasaaltos).\n",
    "<img src=\"./Simulacion1.png\" align=\"center\" width=\"900\" /> \n",
    "\n",
    "Haciendo las consultas correspondientes pude ver que tenía que aplicar el FDNR y no el GIC y así pude terminar de completar la [TS3](https://nbviewer.org/github/renaasalvati/TPS3/blob/main/Trabajo%20Semanal%203.ipynb)."
   ]
  },
  {
   "cell_type": "markdown",
   "id": "9ed0fae6",
   "metadata": {},
   "source": [
    "Gran parte del tiempo de estudio en la semana también fue dedicado a la [TS4](https://nbviewer.org/github/renaasalvati/TPS4/blob/main/Tarea%20Semanal%204.ipynb) (ya finalizada y entregada), la cual ya con todo lo estudiado pudo ser resuelta sin mayores inconvenientes. Se vio también con el siguiente video:\n",
    "<img src=\"./Videos3.png\" align=\"center\" width=\"700\" /> "
   ]
  },
  {
   "cell_type": "markdown",
   "id": "c84b7230",
   "metadata": {},
   "source": [
    "Finalizando la semana también encaré lo que es la TS4 bis, que por cuestiones de tiempo no llegué a terminar. Lo que llegué a hacer me ayudé con el video de ejemplo de pasabanda.\n",
    "<img src=\"./Videos4.png\" align=\"center\" width=\"700\" /> \n",
    "Quedandome por el momento:\n",
    "<img src=\"./Hoja7.jpeg\" align=\"center\" width=\"700\" /> "
   ]
  }
 ],
 "metadata": {
  "kernelspec": {
   "display_name": "Python 3 (ipykernel)",
   "language": "python",
   "name": "python3"
  },
  "language_info": {
   "codemirror_mode": {
    "name": "ipython",
    "version": 3
   },
   "file_extension": ".py",
   "mimetype": "text/x-python",
   "name": "python",
   "nbconvert_exporter": "python",
   "pygments_lexer": "ipython3",
   "version": "3.10.6"
  }
 },
 "nbformat": 4,
 "nbformat_minor": 5
}
