{
 "cells": [
  {
   "cell_type": "markdown",
   "id": "724d9985",
   "metadata": {},
   "source": [
    "# Trabajo Semanal 2\n",
    "### Renata Salvati Dávila\n",
    "***"
   ]
  },
  {
   "cell_type": "markdown",
   "id": "3a3db924",
   "metadata": {},
   "source": [
    "**1. Obtener la transferencia de máxima planicidad del filtro requerido.**"
   ]
  },
  {
   "cell_type": "code",
   "execution_count": 1,
   "id": "ba1cbe9c",
   "metadata": {},
   "outputs": [],
   "source": [
    "# Inicialización e importación de módulos\n",
    "\n",
    "# Módulos externos\n",
    "import numpy as np\n",
    "import scipy.signal as sig\n",
    "import matplotlib as mpl\n",
    "\n",
    "from matplotlib import pyplot as plt\n",
    "from pytc2.sistemas_lineales import analyze_sys, pretty_print_lti, bodePlot, pzmap, tf2sos_analog, pretty_print_SOS\n",
    "\n",
    "\n",
    "fig_sz_x = 13\n",
    "fig_sz_y = 7\n",
    "fig_dpi = 80 # dpi\n",
    "fig_font_size = 13\n",
    "\n",
    "mpl.rcParams['figure.figsize'] = (fig_sz_x, fig_sz_y)\n",
    "mpl.rcParams['figure.dpi'] = fig_dpi\n",
    "plt.rcParams.update({'font.size':fig_font_size})"
   ]
  },
  {
   "cell_type": "code",
   "execution_count": 11,
   "id": "6c82bb11",
   "metadata": {},
   "outputs": [
    {
     "name": "stdout",
     "output_type": "stream",
     "text": [
      "Parámetros del filtro pasa bajos equivalente: \n",
      "e² = 0.2589254117941673, n = 3\n"
     ]
    }
   ],
   "source": [
    "#Datos de enunciado para filtro pasa altos\n",
    "a_max = 1\n",
    "a_min = 30\n",
    "\n",
    "fp = 40000\n",
    "fs = 10000\n",
    "\n",
    "nf = 2*np.pi*fp #norma de frecuencia\n",
    "\n",
    "wp = (2*np.pi*fp)/nf\n",
    "ws = (2*np.pi*fs)/nf\n",
    "\n",
    "#Conversión de parámetros para un filtro pasa bajos equivalente\n",
    "\n",
    "wp_ = 1/wp\n",
    "ws_ = 1/ws\n",
    "\n",
    "#Obtención de epsilon y n\n",
    "e2 = 10**(a_max/10) - 1\n",
    "\n",
    "for aux_n in range(2,5):\n",
    "    aux_a_min = 10*np.log10(1 + e2*ws_**(2*aux_n))\n",
    "    \n",
    "    if aux_a_min > a_min:\n",
    "        n = aux_n\n",
    "        break\n",
    "        \n",
    "print(f\"Parámetros del filtro pasa bajos equivalente: \\ne² = {e2}, n = {n}\")"
   ]
  },
  {
   "cell_type": "code",
   "execution_count": 12,
   "id": "e285556d",
   "metadata": {},
   "outputs": [
    {
     "data": {
      "text/plain": [
       "TransferFunctionContinuous(\n",
       "array([1.]),\n",
       "array([1., 2., 2., 1.]),\n",
       "dt: None\n",
       ")"
      ]
     },
     "metadata": {},
     "output_type": "display_data"
    },
    {
     "data": {
      "text/latex": [
       "$\\displaystyle \\frac{  1 }{s^3 + s^2 \\,\\,   2 + s \\,\\,   2 +   1 }$"
      ],
      "text/plain": [
       "<IPython.core.display.Math object>"
      ]
     },
     "metadata": {},
     "output_type": "display_data"
    },
    {
     "data": {
      "text/plain": [
       "TransferFunctionContinuous(\n",
       "array([1.96522673]),\n",
       "array([1.        , 2.50515278, 3.13789522, 1.96522673]),\n",
       "dt: None\n",
       ")"
      ]
     },
     "metadata": {},
     "output_type": "display_data"
    },
    {
     "data": {
      "text/latex": [
       "$\\displaystyle \\frac{1.965 }{s^3 + s^2 \\,\\, 2.505 + s \\,\\, 3.138 + 1.965 }$"
      ],
      "text/plain": [
       "<IPython.core.display.Math object>"
      ]
     },
     "metadata": {},
     "output_type": "display_data"
    }
   ],
   "source": [
    "nf2 = e2**(-1/2/n) #segunda norma de frecuencia (e⁻(1/n))\n",
    "\n",
    "#Obtención de la transferencia\n",
    "z, p, k = sig.buttap(n)\n",
    "num, den = sig.zpk2tf(z, p, k)\n",
    "num_n, den_n = sig.lp2lp(num, den, nf2) #desnormalización por segunda norma de frecuencia (e⁻(1/n))\n",
    "\n",
    "H = sig.TransferFunction(num, den)\n",
    "H_n = sig.TransferFunction(num_n, den_n)\n",
    "\n",
    "display(H)\n",
    "pretty_print_lti(num, den)\n",
    "\n",
    "display(H_n)\n",
    "pretty_print_lti(num_n, den_n)"
   ]
  }
 ],
 "metadata": {
  "kernelspec": {
   "display_name": "Python 3 (ipykernel)",
   "language": "python",
   "name": "python3"
  },
  "language_info": {
   "codemirror_mode": {
    "name": "ipython",
    "version": 3
   },
   "file_extension": ".py",
   "mimetype": "text/x-python",
   "name": "python",
   "nbconvert_exporter": "python",
   "pygments_lexer": "ipython3",
   "version": "3.10.6"
  }
 },
 "nbformat": 4,
 "nbformat_minor": 5
}
