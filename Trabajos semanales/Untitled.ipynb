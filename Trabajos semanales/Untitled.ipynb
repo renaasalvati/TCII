{
 "cells": [
  {
   "cell_type": "code",
   "execution_count": 2,
   "id": "c55fd8af",
   "metadata": {},
   "outputs": [
    {
     "ename": "ImportError",
     "evalue": "cannot import name 'dibujar_lattice' from 'pytc2.dibujar' (/home/renata/.local/lib/python3.10/site-packages/pytc2/dibujar.py)",
     "output_type": "error",
     "traceback": [
      "\u001b[0;31m---------------------------------------------------------------------------\u001b[0m",
      "\u001b[0;31mImportError\u001b[0m                               Traceback (most recent call last)",
      "Cell \u001b[0;32mIn[2], line 3\u001b[0m\n\u001b[1;32m      1\u001b[0m \u001b[38;5;66;03m# Ahora importamos las funciones de PyTC2\u001b[39;00m\n\u001b[0;32m----> 3\u001b[0m \u001b[38;5;28;01mfrom\u001b[39;00m \u001b[38;5;21;01mpytc2\u001b[39;00m\u001b[38;5;21;01m.\u001b[39;00m\u001b[38;5;21;01mdibujar\u001b[39;00m \u001b[38;5;28;01mimport\u001b[39;00m dibujar_Pi, dibujar_Tee, dibujar_lattice\n\u001b[1;32m      4\u001b[0m \u001b[38;5;28;01mfrom\u001b[39;00m \u001b[38;5;21;01mpytc2\u001b[39;00m\u001b[38;5;21;01m.\u001b[39;00m\u001b[38;5;21;01mgeneral\u001b[39;00m \u001b[38;5;28;01mimport\u001b[39;00m print_latex, print_subtitle, a_equal_b_latex_s\n\u001b[1;32m      5\u001b[0m \u001b[38;5;66;03m#from pytc2.dibujar import dibujar_elemento_serie, dibujar_elemento_derivacion, dibujar_espaciador, dibujar_espacio_derivacion, dibujar_puerto_entrada, dibujar_puerto_salida\u001b[39;00m\n\u001b[1;32m      6\u001b[0m \u001b[38;5;66;03m#from schemdraw.elements import  Resistor, ResistorIEC, Capacitor, Inductor, Line, Dot, Gap, Arrow\u001b[39;00m\n",
      "\u001b[0;31mImportError\u001b[0m: cannot import name 'dibujar_lattice' from 'pytc2.dibujar' (/home/renata/.local/lib/python3.10/site-packages/pytc2/dibujar.py)"
     ]
    }
   ],
   "source": [
    "# Ahora importamos las funciones de PyTC2\n",
    "\n",
    "from pytc2.dibujar import dibujar_Pi, dibujar_Tee, dibujar_lattice\n",
    "from pytc2.general import print_latex, print_subtitle, a_equal_b_latex_s\n",
    "#from pytc2.dibujar import dibujar_elemento_serie, dibujar_elemento_derivacion, dibujar_espaciador, dibujar_espacio_derivacion, dibujar_puerto_entrada, dibujar_puerto_salida\n",
    "#from schemdraw.elements import  Resistor, ResistorIEC, Capacitor, Inductor, Line, Dot, Gap, Arrow\n",
    "import sympy as sp\n",
    "from IPython.display import display,  Markdown"
   ]
  },
  {
   "cell_type": "code",
   "execution_count": null,
   "id": "60b19b6c",
   "metadata": {},
   "outputs": [],
   "source": []
  }
 ],
 "metadata": {
  "kernelspec": {
   "display_name": "Python 3 (ipykernel)",
   "language": "python",
   "name": "python3"
  },
  "language_info": {
   "codemirror_mode": {
    "name": "ipython",
    "version": 3
   },
   "file_extension": ".py",
   "mimetype": "text/x-python",
   "name": "python",
   "nbconvert_exporter": "python",
   "pygments_lexer": "ipython3",
   "version": "3.10.6"
  }
 },
 "nbformat": 4,
 "nbformat_minor": 5
}
