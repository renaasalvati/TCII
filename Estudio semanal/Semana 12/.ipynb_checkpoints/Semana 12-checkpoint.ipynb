{
 "cells": [
  {
   "cell_type": "markdown",
   "id": "f13bf312",
   "metadata": {},
   "source": [
    "# Semana 12\n",
    "\n",
    "No le pude dedicar mucho tiempo a la materia en la semana, unas 2hs aproximadamente.\n",
    "\n",
    "Me puse a ver clases que me quedaban pendientes, terminando el último video de la *clase 7* y comenzando con los de la *clase 8*.\n",
    "\n",
    "<img src=\"./Videos1.png\" align=\"center\" width=\"800\" /> \n",
    "\n",
    "Como ya la teoría había sido presentada en clase presencial, los apuntes de los videos fueron un complemento a lo anotado en esa oportunidad.\n",
    "\n",
    "<img src=\"./Hoja1.jpeg\" align=\"center\" width=\"800\" /> \n",
    "<img src=\"./Hoja2.jpeg\" align=\"center\" width=\"800\" /> \n",
    "<img src=\"./Hoja3.jpeg\" align=\"center\" width=\"800\" /> \n",
    "<img src=\"./Hoja4.jpeg\" align=\"center\" width=\"800\" /> "
   ]
  }
 ],
 "metadata": {
  "kernelspec": {
   "display_name": "Python 3 (ipykernel)",
   "language": "python",
   "name": "python3"
  },
  "language_info": {
   "codemirror_mode": {
    "name": "ipython",
    "version": 3
   },
   "file_extension": ".py",
   "mimetype": "text/x-python",
   "name": "python",
   "nbconvert_exporter": "python",
   "pygments_lexer": "ipython3",
   "version": "3.10.6"
  }
 },
 "nbformat": 4,
 "nbformat_minor": 5
}
