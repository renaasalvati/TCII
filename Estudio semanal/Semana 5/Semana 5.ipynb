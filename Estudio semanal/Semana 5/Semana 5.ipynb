{
 "cells": [
  {
   "cell_type": "markdown",
   "id": "29dbc310",
   "metadata": {},
   "source": [
    "# Semana 5\n",
    "\n",
    "Tuve un progreso corto esta semana porque le pude dedicar muy poco, alrededor de 1 o 2 hs.\n",
    "\n",
    "Estuve corrigiendo mi TPS3 en donde al haberme equivocado el orden arrastré todo el error en el análisis. LLegué solo a arreglar los puntos 1 y 2."
   ]
  },
  {
   "cell_type": "code",
   "execution_count": 1,
   "id": "76936b07",
   "metadata": {
    "scrolled": true
   },
   "outputs": [
    {
     "data": {
      "text/html": [
       "\n",
       "        <iframe\n",
       "            width=\"900\"\n",
       "            height=\"1000\"\n",
       "            src=\"./TPS3.pdf\"\n",
       "            frameborder=\"0\"\n",
       "            allowfullscreen\n",
       "            \n",
       "        ></iframe>\n",
       "        "
      ],
      "text/plain": [
       "<IPython.lib.display.IFrame at 0x7fe1d8604d60>"
      ]
     },
     "execution_count": 1,
     "metadata": {},
     "output_type": "execute_result"
    }
   ],
   "source": [
    "from IPython.display import IFrame \n",
    "IFrame(\"./TPS3.pdf\", width=900, height=1000)"
   ]
  },
  {
   "cell_type": "markdown",
   "id": "192888b1",
   "metadata": {},
   "source": [
    "Me encontré con un par de trabas por ser de orden 3 por lo que me miré este video:\n",
    "<img src=\"./Video.jpg\" align=\"center\" width=\"700\" /> "
   ]
  }
 ],
 "metadata": {
  "kernelspec": {
   "display_name": "Python 3 (ipykernel)",
   "language": "python",
   "name": "python3"
  },
  "language_info": {
   "codemirror_mode": {
    "name": "ipython",
    "version": 3
   },
   "file_extension": ".py",
   "mimetype": "text/x-python",
   "name": "python",
   "nbconvert_exporter": "python",
   "pygments_lexer": "ipython3",
   "version": "3.10.6"
  }
 },
 "nbformat": 4,
 "nbformat_minor": 5
}
