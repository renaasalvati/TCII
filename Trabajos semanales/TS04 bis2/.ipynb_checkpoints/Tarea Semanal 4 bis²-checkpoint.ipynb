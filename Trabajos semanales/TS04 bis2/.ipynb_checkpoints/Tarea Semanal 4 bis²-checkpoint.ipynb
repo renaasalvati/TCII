{
 "cells": [
  {
   "cell_type": "markdown",
   "id": "cec3fd28",
   "metadata": {},
   "source": [
    "# Trabajo Semanal 4 bis²\n",
    "###\n",
    "***"
   ]
  },
  {
   "cell_type": "markdown",
   "id": "439a2c1b",
   "metadata": {},
   "source": [
    "<img src=\"./Especificaciones.png\" align=\"center\" /> "
   ]
  },
  {
   "cell_type": "code",
   "execution_count": 1,
   "id": "d4333a4c",
   "metadata": {},
   "outputs": [],
   "source": [
    "# Inicialización e importación de módulos\n",
    "\n",
    "# Módulos externos\n",
    "import numpy as np\n",
    "import scipy.signal as sig\n",
    "import matplotlib as mpl\n",
    "import math\n",
    "\n",
    "from matplotlib import pyplot as plt\n",
    "from pytc2.sistemas_lineales import analyze_sys, pretty_print_lti, bodePlot, pzmap, tf2sos_analog, pretty_print_SOS\n",
    "\n",
    "fig_sz_x = 13\n",
    "fig_sz_y = 7\n",
    "fig_dpi = 80 # dpi\n",
    "fig_font_size = 13\n",
    "\n",
    "mpl.rcParams['figure.figsize'] = (fig_sz_x, fig_sz_y)\n",
    "mpl.rcParams['figure.dpi'] = fig_dpi\n",
    "plt.rcParams.update({'font.size':fig_font_size})"
   ]
  },
  {
   "cell_type": "code",
   "execution_count": 7,
   "id": "7aabf810",
   "metadata": {},
   "outputs": [
    {
     "data": {
      "text/latex": [
       "$\\displaystyle \\frac{0.7157 }{s^3 + s^2 \\,\\, 1.253 + s \\,\\, 1.535 + 0.7157 }$"
      ],
      "text/plain": [
       "<IPython.core.display.Math object>"
      ]
     },
     "metadata": {},
     "output_type": "display_data"
    },
    {
     "data": {
      "text/latex": [
       "$\\displaystyle   \\frac{0.6264 }{s + 0.6265 } . \\frac{1.143 }{s^2 + s \\frac{1.069}{1.706} + 1.069^2}$"
      ],
      "text/plain": [
       "<IPython.core.display.Math object>"
      ]
     },
     "metadata": {},
     "output_type": "display_data"
    }
   ],
   "source": [
    "#Datos de enunciado para filtro pasa banda\n",
    "a_max = 0.5\n",
    "a_min1 = 16\n",
    "a_min2 = 36\n",
    "\n",
    "fs1 = 17*(10**3)\n",
    "fs2 = 36*(10**3) \n",
    "\n",
    "Q = 5\n",
    "w0 = 2*np.pi*22*(10**3)\n",
    "\n",
    "nf = w0 #norma de frecuencia\n",
    "\n",
    "w0_n = w0/nf\n",
    "Bw_n = w0_n/Q\n",
    "\n",
    "#como w0²=(w1.w2) y Bw=(w2-w1) => 1=(w1.w2) y 1/5=(w2-w1) => w2=1/w1 y 1/5=(1/w1-w1)\n",
    "wp1_n1 = (-Bw_n+np.sqrt(Bw_n**2-(4*1*-1)))/(2*1)\n",
    "wp1_n2 = (-Bw_n-np.sqrt(Bw_n**2-(4*1*-1)))/(2*1)\n",
    "\n",
    "if wp1_n1 < 0:\n",
    "    wp1_n = wp1_n2\n",
    "else:\n",
    "    wp1_n = wp1_n1\n",
    "    \n",
    "wp2_n = 1/wp1_n\n",
    "\n",
    "ws1_n = (2*np.pi*fs1)/nf\n",
    "ws2_n = (2*np.pi*fs2)/nf \n",
    "\n",
    "#conversión de parámetros para un filtro pasa bajos equivalente\n",
    "Wp1_n = round(Q*(wp1_n**2 - w0_n**2)/wp1_n, 3)\n",
    "Wp2_n = round(Q*(wp2_n**2 - w0_n**2)/wp2_n, 3)\n",
    "Ws1_n = round(Q*(ws1_n**2 - w0_n**2)/ws1_n, 3)\n",
    "Ws2_n = round(Q*(ws2_n**2 - w0_n**2)/ws2_n, 3)\n",
    "\n",
    "Wp_n = math.fabs(Wp1_n)\n",
    "\n",
    "#Obtención de epsilon y n\n",
    "e2 = round(10**(a_max/10) - 1, 1)\n",
    "\n",
    "for aux_n in range(2,5):\n",
    "    aux_a_min = 10*np.log10(1 + e2*np.cosh(aux_n*np.arccosh(math.fabs(Ws1_n)))**2)\n",
    "        \n",
    "    if aux_a_min > a_min1:\n",
    "        n1 = aux_n\n",
    "        break\n",
    "        \n",
    "for aux_n in range(2,5):\n",
    "    aux_a_min = 10*np.log10(1 + e2*np.cosh(aux_n*np.arccosh(math.fabs(Ws2_n)))**2)\n",
    "    \n",
    "    if aux_a_min > a_min2:\n",
    "        n2 = aux_n\n",
    "        break        \n",
    "\n",
    "if n1 < n2:\n",
    "    n = n1\n",
    "else:\n",
    "    n = n2\n",
    "        \n",
    "z,p,k = sig.cheb1ap(n, a_max)\n",
    "num_lp_n, den_lp_n = sig.zpk2tf(z,p,k)\n",
    "\n",
    "sos_lp = tf2sos_analog(num_lp_n, den_lp_n)\n",
    "\n",
    "pretty_print_lti(num_lp_n, den_lp_n)\n",
    "pretty_print_SOS(sos_lp, mode='omegayq')\n"
   ]
  },
  {
   "cell_type": "code",
   "execution_count": null,
   "id": "9289683d",
   "metadata": {},
   "outputs": [],
   "source": [
    "#normalización de frecuencias angulares\n",
    "w0_n = w0/nf\n",
    "wp1_n = (2*np.pi*fp1)/nf\n",
    "wp2_n = (2*np.pi*fp2)/nf\n",
    "ws1_n = (2*np.pi*fs1)/nf\n",
    "ws2_n = (2*np.pi*fs2)/nf\n",
    "\n",
    "Bw = wp2_n - wp1_n #ancho de banda\n",
    "Q = w0_n/Bw #factor de selectividad\n",
    "\n",
    "#conversión de parámetros para un filtro pasa bajos equivalente\n",
    "Wp1_n = round(Q*(wp1_n**2 - w0_n**2)/wp1_n, 3)\n",
    "Wp2_n = round(Q*(wp2_n**2 - w0_n**2)/wp2_n, 3)\n",
    "Ws1_n = round(Q*(ws1_n**2 - w0_n**2)/ws1_n, 3)\n",
    "Ws2_n = round(Q*(ws2_n**2 - w0_n**2)/ws2_n, 3)\n",
    "\n",
    "Wp_n = math.fabs(Wp1_n)\n",
    "\n",
    "#verifico para Ws1 y Ws2 cuál es la más chica en módulo y elijo esa para trabajar con el prototipo\n",
    "if math.fabs(Ws1_n) < math.fabs(Ws2_n):\n",
    "    Ws_n = math.fabs(Ws1_n)\n",
    "else:\n",
    "    Ws_n = math.fabs(Ws2_n)     \n",
    "\n",
    "print(f\"Frecuencias angulares normalizadas del pasa-bajos prototipo: \\nwp = {Wp_n}, ws = {Ws_n}\\n\")    \n",
    "    \n",
    "#Obtención de epsilon y n\n",
    "e2 = round(10**(a_max/10) - 1, 1)\n",
    "\n",
    "for aux_n in range(2,5):\n",
    "    aux_a_min = 10*np.log10(1 + e2*Ws_n**(2*aux_n))\n",
    "    \n",
    "    if aux_a_min > a_min:\n",
    "        n = aux_n\n",
    "        break\n",
    "        \n",
    "print(f\"Parámetros del filtro pasa-bajos prototipo: \\ne² = {e2}, n = {n}\")"
   ]
  },
  {
   "cell_type": "code",
   "execution_count": null,
   "id": "295688f3",
   "metadata": {},
   "outputs": [],
   "source": [
    "#transferencias de cada etapa del pasa-bajos prototipo \n",
    "num1_lp_n = num2_lp_n = [1.]\n",
    "den1_lp_n = [1., 1.]\n",
    "den2_lp_n = [1., 1., 1.]\n",
    "\n",
    "#numeradores y denominadores resultantes de la transformación de cada etapa del pasa-bajos\n",
    "num1_bp_n, den1_bp_n = sig.lp2bp(num1_lp_n, den1_lp_n, w0_n, Bw)\n",
    "num2_bp_n, den2_bp_n = sig.lp2bp(num2_lp_n, den2_lp_n, w0_n, Bw)\n",
    "\n",
    "sos1_bp = tf2sos_analog(num1_bp_n, den1_bp_n)\n",
    "sos2_bp = tf2sos_analog(num1_bp_n, den2_bp_n)\n",
    "\n",
    "num_bp_n = np.polymul(num1_bp_n, num2_bp_n)\n",
    "den_bp_n = np.polymul(den1_bp_n, den2_bp_n)\n",
    "\n",
    "sos_bp = tf2sos_analog(num_bp_n, den_bp_n)\n",
    "\n",
    "print(\"Primera etapa del pasa-bajos al pasa-banda\")\n",
    "pretty_print_lti(num1_bp_n, den1_bp_n)\n",
    "pretty_print_SOS(sos1_bp, mode='omegayq') #factorizando\n",
    "\n",
    "print(\"\\nSegunda etapa del pasa-bajos al pasa-banda\")\n",
    "pretty_print_lti(num2_bp_n, den2_bp_n)\n",
    "pretty_print_SOS(sos2_bp, mode='omegayq') #factorizando\n",
    "\n",
    "print(\"\\nArmando la transferencia completa\")\n",
    "pretty_print_lti(num_bp_n, den_bp_n)\n",
    "pretty_print_SOS(sos_bp, mode='omegayq') #factorizando"
   ]
  },
  {
   "cell_type": "markdown",
   "id": "f272b659",
   "metadata": {},
   "source": [
    "**2. Graficar el diagrama de polos y ceros.**\n",
    "<img src=\"./Hoja3.jpeg\" align=\"center\" /> "
   ]
  },
  {
   "cell_type": "code",
   "execution_count": null,
   "id": "e722d336",
   "metadata": {},
   "outputs": [],
   "source": [
    "num_lp_n = [1.]\n",
    "den_lp_n = [1., 2., 2., 1.]\n",
    "\n",
    "#calculo la ganancia en veces\n",
    "k = round(10**(k_db/20), 3)\n",
    "\n",
    "#transferencias completas del pasa-bajos y pasa-banda\n",
    "H_lp_n = sig.TransferFunction(num_lp_n, den_lp_n)\n",
    "H_bp_n = sig.TransferFunction(num_bp_n*k, den_bp_n)\n",
    "\n",
    "pzmap(H_lp_n)\n",
    "pzmap(H_bp_n)"
   ]
  },
  {
   "cell_type": "markdown",
   "id": "cc0169c8",
   "metadata": {},
   "source": [
    "**3. Graficar la transferencia (módulo y fase) del filtro pedido.**\n",
    "<img src=\"./Hoja4.jpeg\" align=\"center\" />"
   ]
  },
  {
   "cell_type": "code",
   "execution_count": null,
   "id": "464f1063",
   "metadata": {},
   "outputs": [],
   "source": [
    "bodePlot(H_bp_n)"
   ]
  },
  {
   "cell_type": "code",
   "execution_count": null,
   "id": "1c2d162b",
   "metadata": {},
   "outputs": [],
   "source": []
  },
  {
   "cell_type": "code",
   "execution_count": null,
   "id": "fe651a24",
   "metadata": {},
   "outputs": [],
   "source": []
  },
  {
   "cell_type": "code",
   "execution_count": null,
   "id": "d3c6e299",
   "metadata": {},
   "outputs": [],
   "source": []
  },
  {
   "cell_type": "code",
   "execution_count": null,
   "id": "794e4672",
   "metadata": {},
   "outputs": [],
   "source": []
  },
  {
   "cell_type": "code",
   "execution_count": null,
   "id": "5ebd4947",
   "metadata": {},
   "outputs": [],
   "source": []
  },
  {
   "cell_type": "code",
   "execution_count": null,
   "id": "fce4ce12",
   "metadata": {},
   "outputs": [],
   "source": []
  },
  {
   "cell_type": "code",
   "execution_count": null,
   "id": "51d0aaea",
   "metadata": {},
   "outputs": [],
   "source": []
  },
  {
   "cell_type": "code",
   "execution_count": null,
   "id": "8a51c3a7",
   "metadata": {},
   "outputs": [],
   "source": []
  },
  {
   "cell_type": "code",
   "execution_count": null,
   "id": "41f67067",
   "metadata": {},
   "outputs": [],
   "source": []
  },
  {
   "cell_type": "code",
   "execution_count": null,
   "id": "1ab767eb",
   "metadata": {},
   "outputs": [],
   "source": []
  },
  {
   "cell_type": "code",
   "execution_count": null,
   "id": "8a78e647",
   "metadata": {},
   "outputs": [],
   "source": [
    "#Busco las funciones transferencias de primer y segundo orden que componen la original\n",
    "num1_ = [1.]\n",
    "den1_ = [1., 1.]\n",
    "\n",
    "num2_ = [1.]\n",
    "den2_ = [1., 1., 1.]\n",
    "\n",
    "#Busco ahora las que corresponden al pasa altos\n",
    "num1, den1 = sig.lp2hp(num1_, den1_)\n",
    "num2, den2 = sig.lp2hp(num2_, den2_)\n",
    "\n",
    "#Busco el polinomio completo de la transferencia\n",
    "num = np.polymul(num1, num2)\n",
    "den = np.polymul(den1, den2)\n",
    "\n",
    "pretty_print_lti(num, den)"
   ]
  },
  {
   "cell_type": "markdown",
   "id": "8a854f3e",
   "metadata": {},
   "source": [
    "**2. Obtener el diagrama de polos y ceros, y un bosquejo de la respuesta en frecuencia. Compare el diagrama de polos y ceros con el del filtro pasabajo prototipo.**\n",
    "\n",
    "<img src=\"./Hoja2.jpeg\" align=\"center\" /> \n",
    "<img src=\"./Hoja3.jpeg\" align=\"center\" /> "
   ]
  }
 ],
 "metadata": {
  "kernelspec": {
   "display_name": "Python 3 (ipykernel)",
   "language": "python",
   "name": "python3"
  },
  "language_info": {
   "codemirror_mode": {
    "name": "ipython",
    "version": 3
   },
   "file_extension": ".py",
   "mimetype": "text/x-python",
   "name": "python",
   "nbconvert_exporter": "python",
   "pygments_lexer": "ipython3",
   "version": "3.10.6"
  }
 },
 "nbformat": 4,
 "nbformat_minor": 5
}
