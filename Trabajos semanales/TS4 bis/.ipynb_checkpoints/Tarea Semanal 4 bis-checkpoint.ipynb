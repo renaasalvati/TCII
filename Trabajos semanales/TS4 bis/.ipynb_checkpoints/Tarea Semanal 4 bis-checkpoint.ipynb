{
 "cells": [
  {
   "cell_type": "markdown",
   "id": "cec3fd28",
   "metadata": {},
   "source": [
    "# Trabajo Semanal 4 bis\n",
    "### Renata Salvati Dávila\n",
    "***"
   ]
  },
  {
   "cell_type": "markdown",
   "id": "439a2c1b",
   "metadata": {},
   "source": [
    "<img src=\"./Especificaciones.png\" align=\"center\" /> "
   ]
  },
  {
   "cell_type": "markdown",
   "id": "40143960",
   "metadata": {},
   "source": [
    "**1. Obtener la transferencia normalizada del filtro.**\n",
    "<img src=\"./Hoja1.jpeg\" align=\"center\" /> \n",
    "<img src=\"./Hoja2.jpeg\" align=\"center\" /> "
   ]
  },
  {
   "cell_type": "code",
   "execution_count": 1,
   "id": "d4333a4c",
   "metadata": {},
   "outputs": [],
   "source": [
    "# Inicialización e importación de módulos\n",
    "\n",
    "# Módulos externos\n",
    "import numpy as np\n",
    "import scipy.signal as sig\n",
    "import matplotlib as mpl\n",
    "import math\n",
    "\n",
    "from matplotlib import pyplot as plt\n",
    "from pytc2.sistemas_lineales import analyze_sys, pretty_print_lti, bodePlot, pzmap, tf2sos_analog, pretty_print_SOS\n",
    "\n",
    "\n",
    "fig_sz_x = 13\n",
    "fig_sz_y = 7\n",
    "fig_dpi = 80 # dpi\n",
    "fig_font_size = 13\n",
    "\n",
    "mpl.rcParams['figure.figsize'] = (fig_sz_x, fig_sz_y)\n",
    "mpl.rcParams['figure.dpi'] = fig_dpi\n",
    "plt.rcParams.update({'font.size':fig_font_size})"
   ]
  },
  {
   "cell_type": "code",
   "execution_count": 2,
   "id": "9289683d",
   "metadata": {},
   "outputs": [
    {
     "name": "stdout",
     "output_type": "stream",
     "text": [
      "Frecuencias angulares normalizadas del pasa-bajos prototipo: \n",
      "wp = 1.0, ws = 2.167\n",
      "\n",
      "Parámetros del filtro pasa-bajos prototipo: \n",
      "e² = 1.0, n = 3\n"
     ]
    }
   ],
   "source": [
    "#Datos de enunciado para filtro pasa altos\n",
    "a_max = 3\n",
    "a_min = 20\n",
    "\n",
    "fp1 = 1600*(10**3)\n",
    "fp2 = 2500*(10**3)\n",
    "fs1 = 1250*(10**3)\n",
    "fs2 = 3200*(10**3) \n",
    "\n",
    "w0 = 2*np.pi*np.sqrt(fp1*fp2)\n",
    "\n",
    "nf = w0 #norma de frecuencia\n",
    "\n",
    "#normalización de frecuencias angulares\n",
    "w0_n = w0/nf\n",
    "wp1_n = (2*np.pi*fp1)/nf\n",
    "wp2_n = (2*np.pi*fp2)/nf\n",
    "ws1_n = (2*np.pi*fs1)/nf\n",
    "ws2_n = (2*np.pi*fs2)/nf\n",
    "\n",
    "Bw = wp2_n - wp1_n #ancho de banda\n",
    "Q = w0_n/Bw #factor de selectividad\n",
    "\n",
    "#conversión de parámetros para un filtro pasa bajos equivalente\n",
    "Wp1_n = round(Q*(wp1_n**2 - w0_n**2)/wp1_n, 3)\n",
    "Wp2_n = round(Q*(wp2_n**2 - w0_n**2)/wp2_n, 3)\n",
    "Ws1_n = round(Q*(ws1_n**2 - w0_n**2)/ws1_n, 3)\n",
    "Ws2_n = round(Q*(ws2_n**2 - w0_n**2)/ws2_n, 3)\n",
    "\n",
    "Wp_n = math.fabs(Wp1_n)\n",
    "\n",
    "#verifico para Ws1 y Ws2 cuál es la más chica en módulo y elijo esa para trabajar con el prototipo\n",
    "if math.fabs(Ws1_n) < math.fabs(Ws2_n):\n",
    "    Ws_n = math.fabs(Ws1_n)\n",
    "else:\n",
    "    Ws_n = math.fabs(Ws2_n)     \n",
    "\n",
    "print(f\"Frecuencias angulares normalizadas del pasa-bajos prototipo: \\nwp = {Wp_n}, ws = {Ws_n}\\n\")    \n",
    "    \n",
    "#Obtención de epsilon y n\n",
    "e2 = round(10**(a_max/10) - 1, 1)\n",
    "\n",
    "for aux_n in range(2,5):\n",
    "    aux_a_min = 10*np.log10(1 + e2*Ws_n**(2*aux_n))\n",
    "    \n",
    "    if aux_a_min > a_min:\n",
    "        n = aux_n\n",
    "        break\n",
    "        \n",
    "print(f\"Parámetros del filtro pasa-bajos prototipo: \\ne² = {e2}, n = {n}\")"
   ]
  },
  {
   "cell_type": "code",
   "execution_count": 8,
   "id": "295688f3",
   "metadata": {},
   "outputs": [
    {
     "data": {
      "text/latex": [
       "$\\displaystyle \\frac{  1 }{s +   1 }$"
      ],
      "text/plain": [
       "<IPython.core.display.Math object>"
      ]
     },
     "metadata": {},
     "output_type": "display_data"
    },
    {
     "data": {
      "text/latex": [
       "$\\displaystyle \\frac{  1 }{s^2 + s +   1 }$"
      ],
      "text/plain": [
       "<IPython.core.display.Math object>"
      ]
     },
     "metadata": {},
     "output_type": "display_data"
    },
    {
     "data": {
      "text/latex": [
       "$\\displaystyle \\frac{s }{s +   1 }$"
      ],
      "text/plain": [
       "<IPython.core.display.Math object>"
      ]
     },
     "metadata": {},
     "output_type": "display_data"
    },
    {
     "data": {
      "text/latex": [
       "$\\displaystyle \\frac{s^2 }{s^2 + s +   1 }$"
      ],
      "text/plain": [
       "<IPython.core.display.Math object>"
      ]
     },
     "metadata": {},
     "output_type": "display_data"
    }
   ],
   "source": [
    "#transferencias de cada etapa del pasa-bajos prototipo \n",
    "num1_lp_n = num2_lp_n = [1.]\n",
    "den1_lp_n = [1., 1.]\n",
    "den2_lp_n = [1., 1., 1.]\n",
    "\n",
    "H1_lp_n = sig.TransferFunction(num1_lp_n, den1_lp_n)\n",
    "H2_lp_n = sig.TransferFunction(num1_lp_n, den2_lp_n)\n",
    "\n",
    "num1_bp_n, den1_bp_n = sig.lp2bp(num1_lp_n, den1_lp_n)\n",
    "num2_bp_n, den2_bp_n = sig.lp2bp(num2_lp_n, den2_lp_n)\n",
    "\n",
    "pretty_print_lti(num1_lp_n, den1_lp_n)\n",
    "pretty_print_lti(num1_lp_n, den2_lp_n)\n",
    "\n",
    "pretty_print_lti(num1_bp_n, den1_lp_n)\n",
    "pretty_print_lti(num2_bp_n, den2_lp_n)\n"
   ]
  },
  {
   "cell_type": "markdown",
   "id": "f272b659",
   "metadata": {},
   "source": [
    "**2. Graficar el diagrama de polos y ceros.**\n",
    "<img src=\"./Hoja3.jpeg\" align=\"center\" /> "
   ]
  },
  {
   "cell_type": "code",
   "execution_count": 4,
   "id": "8a78e647",
   "metadata": {},
   "outputs": [
    {
     "data": {
      "text/latex": [
       "$\\displaystyle \\frac{s^3 }{s^3 + s^2 \\,\\,   2 + s \\,\\,   2 +   1 }$"
      ],
      "text/plain": [
       "<IPython.core.display.Math object>"
      ]
     },
     "metadata": {},
     "output_type": "display_data"
    }
   ],
   "source": [
    "#Busco las funciones transferencias de primer y segundo orden que componen la original\n",
    "num1_ = [1.]\n",
    "den1_ = [1., 1.]\n",
    "\n",
    "num2_ = [1.]\n",
    "den2_ = [1., 1., 1.]\n",
    "\n",
    "#Busco ahora las que corresponden al pasa altos\n",
    "num1, den1 = sig.lp2hp(num1_, den1_)\n",
    "num2, den2 = sig.lp2hp(num2_, den2_)\n",
    "\n",
    "#Busco el polinomio completo de la transferencia\n",
    "num = np.polymul(num1, num2)\n",
    "den = np.polymul(den1, den2)\n",
    "\n",
    "pretty_print_lti(num, den)"
   ]
  },
  {
   "cell_type": "markdown",
   "id": "8a854f3e",
   "metadata": {},
   "source": [
    "**2. Obtener el diagrama de polos y ceros, y un bosquejo de la respuesta en frecuencia. Compare el diagrama de polos y ceros con el del filtro pasabajo prototipo.**\n",
    "\n",
    "<img src=\"./Hoja2.jpeg\" align=\"center\" /> \n",
    "<img src=\"./Hoja3.jpeg\" align=\"center\" /> "
   ]
  },
  {
   "cell_type": "code",
   "execution_count": 5,
   "id": "98120e60",
   "metadata": {},
   "outputs": [
    {
     "ename": "NameError",
     "evalue": "name 'Hpb_n' is not defined",
     "output_type": "error",
     "traceback": [
      "\u001b[0;31m---------------------------------------------------------------------------\u001b[0m",
      "\u001b[0;31mNameError\u001b[0m                                 Traceback (most recent call last)",
      "Cell \u001b[0;32mIn[5], line 1\u001b[0m\n\u001b[0;32m----> 1\u001b[0m pzmap(\u001b[43mHpb_n\u001b[49m)\n\u001b[1;32m      2\u001b[0m pzmap(sig\u001b[38;5;241m.\u001b[39mTransferFunction(num, den))\n",
      "\u001b[0;31mNameError\u001b[0m: name 'Hpb_n' is not defined"
     ]
    }
   ],
   "source": [
    "pzmap(Hpb_n)\n",
    "pzmap(sig.TransferFunction(num, den))"
   ]
  },
  {
   "cell_type": "markdown",
   "id": "8e4e4564",
   "metadata": {},
   "source": [
    "**3. Implementar el circuito normalizado con estructuras pasivas. (Puede utilizar dispositivos activos para separar secciones).**\n",
    "<img src=\"./Hoja4.jpeg\" align=\"center\" /> "
   ]
  },
  {
   "cell_type": "code",
   "execution_count": null,
   "id": "8488b18b",
   "metadata": {},
   "outputs": [],
   "source": [
    "#Fijo el valor de los valores normalizados de los capacitores\n",
    "R1_ = 1.0\n",
    "R2_ = 1.0\n",
    "\n",
    "L1_ = R1_\n",
    "C1_ = 1/L1_\n",
    "L2_ = R2_\n",
    "\n",
    "print(f\"Valores de los componentes normalizados: \\nC1_ = {C1_}, L1_ = {L1_}, L2_ = {L2_}, R1_ = {R1_}, R2_ = {R2_}\")"
   ]
  },
  {
   "cell_type": "markdown",
   "id": "0c3248b3",
   "metadata": {},
   "source": [
    "<img src=\"./Circuito normalizado.png\" align=\"center\" width=\"800\" /> \n",
    "<img src=\"./Simulación normalizada.png\" align=\"center\" width=\"1000\" /> "
   ]
  },
  {
   "cell_type": "markdown",
   "id": "b8ab085e",
   "metadata": {},
   "source": [
    "**5. Reemplace los inductores en las estructuras pasivas mediante el GIC de Antoniou, en la configuración que considere más apropiada.**\n",
    "<img src=\"./Hoja5.jpeg\" align=\"center\" /> "
   ]
  },
  {
   "cell_type": "code",
   "execution_count": null,
   "id": "e15ab9fa",
   "metadata": {},
   "outputs": [],
   "source": [
    "#Busco los valores normalizados de las impedancias de los GIC (fijo R = 1)\n",
    "R_ = 1.0\n",
    "C_ = 1/R_**2\n",
    "\n",
    "print(f\"Valores de los componentes normalizados: \\nC_ = {C_}, R_ = {R_}\")"
   ]
  },
  {
   "cell_type": "markdown",
   "id": "700f8468",
   "metadata": {},
   "source": [
    "<img src=\"./Circuito GIC normalizado.png\" align=\"center\" width=\"800\" /> \n",
    "<img src=\"./Simulación GIC normalizada.png\" align=\"center\" width=\"1000\" /> "
   ]
  },
  {
   "cell_type": "code",
   "execution_count": null,
   "id": "53153b81",
   "metadata": {},
   "outputs": [],
   "source": [
    "#Desnormalizo todos los componentes para verificar que todo el procedimiento haya sido el correcto\n",
    "ni = 10**3 #norma de impedancia\n",
    "\n",
    "R = R1 = R2 = ni\n",
    "C = C1 = 1/(ni * nf * (nf2**-1))\n",
    "\n",
    "print(f\"Valores de los componentes desnormalizados: \\nC = C1 = {C}, R = R1 = R2 {R}\")"
   ]
  },
  {
   "cell_type": "markdown",
   "id": "d567a3c2",
   "metadata": {},
   "source": [
    "<img src=\"./Circuito GIC.png\" align=\"center\" width=\"800\" /> \n",
    "<img src=\"./Simulación GIC.png\" align=\"center\" width=\"1000\" /> "
   ]
  }
 ],
 "metadata": {
  "kernelspec": {
   "display_name": "Python 3 (ipykernel)",
   "language": "python",
   "name": "python3"
  },
  "language_info": {
   "codemirror_mode": {
    "name": "ipython",
    "version": 3
   },
   "file_extension": ".py",
   "mimetype": "text/x-python",
   "name": "python",
   "nbconvert_exporter": "python",
   "pygments_lexer": "ipython3",
   "version": "3.10.6"
  }
 },
 "nbformat": 4,
 "nbformat_minor": 5
}
