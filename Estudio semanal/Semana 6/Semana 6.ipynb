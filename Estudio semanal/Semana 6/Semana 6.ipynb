{
 "cells": [
  {
   "cell_type": "markdown",
   "id": "29dbc310",
   "metadata": {},
   "source": [
    "# Semana 6\n",
    "\n",
    "Para esta semana tuve alrededor de 8hs de estudio.\n",
    "\n",
    "Comencé mirando la clase de aproximación de Bessel ya que la semana pasada no lo había visto:\n",
    "\n",
    "<img src=\"./Videos1.png\" align=\"center\" width=\"700\" /> \n",
    "\n",
    "Además también se complementó con un poco de la teoría del libro de Schauman, capítulo 10 sección 1.\n",
    "\n",
    "A posterior estuve tratando de animarme un poco más con la utilización de Python para poder hacer la simulación numérica de la TS3. Para ello utilicé apuntes que tomé de las clases y de estos archivos: https://pytc2.readthedocs.io/en/latest/filtro_pasivo_sos.html y https://pytc2.readthedocs.io/en/latest/secciones_SOS.html.\n",
    "También hice algunas correcciones que tenía en la parte escrita.\n",
    "Finalmente quise hacer la parte del circuito pasivo pero no resultó, o quizás también es una cuestión de que no estoy interpretando bien los datos.\n",
    "\n",
    "Todo esto también lo complementé con algunos videos: \n",
    "\n",
    "<img src=\"./Videos2.png\" align=\"center\" width=\"700\" /> \n",
    "\n",
    "Restante, miré los videos correspondientes a los de esta semana para estar al día con la teoría:\n",
    "\n",
    "<img src=\"./Videos3.png\" align=\"center\" width=\"700\" /> \n",
    "\n",
    "Los videos de ejemplos los dejé para mirarlos cuando haga la TS4 y poder ayudarme con ellos."
   ]
  },
  {
   "cell_type": "markdown",
   "id": "75f353ff",
   "metadata": {},
   "source": [
    "A continuación dejo todos los apuntes pertinentes a los videos vistos y teoría leída:\n",
    "<img src=\"./Hoja1.jpeg\" align=\"center\" width=\"700\" /> \n",
    "<img src=\"./Hoja2.jpeg\" align=\"center\" width=\"700\" /> \n",
    "<img src=\"./Hoja3.jpeg\" align=\"center\" width=\"700\" /> \n",
    "<img src=\"./Hoja4.jpeg\" align=\"center\" width=\"700\" /> \n",
    "<img src=\"./Hoja5.jpeg\" align=\"center\" width=\"700\" /> "
   ]
  }
 ],
 "metadata": {
  "kernelspec": {
   "display_name": "Python 3 (ipykernel)",
   "language": "python",
   "name": "python3"
  },
  "language_info": {
   "codemirror_mode": {
    "name": "ipython",
    "version": 3
   },
   "file_extension": ".py",
   "mimetype": "text/x-python",
   "name": "python",
   "nbconvert_exporter": "python",
   "pygments_lexer": "ipython3",
   "version": "3.10.6"
  }
 },
 "nbformat": 4,
 "nbformat_minor": 5
}
