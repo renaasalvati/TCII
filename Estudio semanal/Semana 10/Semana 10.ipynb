{
 "cells": [
  {
   "cell_type": "markdown",
   "id": "d978647f",
   "metadata": {},
   "source": [
    "# Semana 10\n",
    "\n",
    "Tuve un estudio semanal de 5hs\n",
    "\n",
    "Luego de hacer algunas consultas para las implementaciones circuitales pude hacer las correcciones que hacían falta para el circuito pasivo de la TS4bis. Además aprendí cómo implementar los parámetros en LTSpice para un trabajo más dinámico. \n",
    "Finalmente pude obtener el resultado esperado. \n",
    "\n",
    "<img src=\"./Circuito1.png\" align=\"center\" width=\"800\" /> \n",
    "<img src=\"./Simulación1.png\" align=\"center\" width=\"800\" /> \n",
    "\n",
    "De esta misma forma realicé el circuito pasivo para la TS4bis².\n",
    "\n",
    "<img src=\"./Circuito2.png\" align=\"center\" width=\"800\" /> \n",
    "<img src=\"./Simulación2.png\" align=\"center\" width=\"800\" /> \n",
    "\n",
    "Me encontré con algunos problemas en la implementación activa al desnormalizarla ya que el ripple ya no seguía siendo como debía. Al hacer la puesta en común con mi compañero de la tarea semanal se pudo ver que este problema era debido al ancho de banda de los OPAMPs.\n",
    "\n",
    "<img src=\"./Simulación3.png\" align=\"center\" width=\"500\" />\n",
    "\n",
    "Para completar la tarea semanal grupal se complementaron ambas resoluciones para llevarlo a cabo, donde se había llegado al mismo resultado en la transferencia y en las simulaciones de Python y LTSpice (menos el activo por el problema mencionado)"
   ]
  },
  {
   "cell_type": "markdown",
   "id": "f7fbd157",
   "metadata": {},
   "source": [
    "Por otra parte también estuve encarando el análisis del filtro del laboratorio\n",
    "<img src=\"./Hoja1.jpeg\" align=\"center\" width=\"700\" /> "
   ]
  },
  {
   "cell_type": "markdown",
   "id": "ba3a373b",
   "metadata": {},
   "source": [
    "Continué viendo las clases que me quedaron faltantes, igualmente aún sin poder terminarlas.\n",
    "\n",
    "<img src=\"./Videos1.png\" align=\"center\" width=\"800\" /> \n",
    "\n",
    "Los apuntes fueron complemento a lo que se dio en la clase presencial."
   ]
  }
 ],
 "metadata": {
  "kernelspec": {
   "display_name": "Python 3 (ipykernel)",
   "language": "python",
   "name": "python3"
  },
  "language_info": {
   "codemirror_mode": {
    "name": "ipython",
    "version": 3
   },
   "file_extension": ".py",
   "mimetype": "text/x-python",
   "name": "python",
   "nbconvert_exporter": "python",
   "pygments_lexer": "ipython3",
   "version": "3.10.6"
  }
 },
 "nbformat": 4,
 "nbformat_minor": 5
}
